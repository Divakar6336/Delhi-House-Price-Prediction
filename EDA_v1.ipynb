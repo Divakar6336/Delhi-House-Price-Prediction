{
 "cells": [
  {
   "cell_type": "code",
   "execution_count": 1,
   "metadata": {
    "ExecuteTime": {
     "end_time": "2020-05-01T16:54:39.692624Z",
     "start_time": "2020-05-01T16:54:36.965505Z"
    }
   },
   "outputs": [],
   "source": [
    "import numpy as np\n",
    "import matplotlib.pyplot as plt\n",
    "import seaborn as sns\n",
    "import pandas as pd\n",
    "import missingno\n",
    "from collections import defaultdict\n",
    "%matplotlib inline"
   ]
  },
  {
   "cell_type": "code",
   "execution_count": 2,
   "metadata": {
    "ExecuteTime": {
     "end_time": "2020-05-01T16:56:59.555840Z",
     "start_time": "2020-05-01T16:56:59.542858Z"
    }
   },
   "outputs": [],
   "source": [
    "df = pd.read_csv('MagicBricks.csv')"
   ]
  },
  {
   "cell_type": "code",
   "execution_count": 14,
   "metadata": {
    "ExecuteTime": {
     "end_time": "2020-05-01T17:00:36.471351Z",
     "start_time": "2020-05-01T17:00:36.464400Z"
    }
   },
   "outputs": [
    {
     "data": {
      "text/plain": [
       "(1259, 11)"
      ]
     },
     "execution_count": 14,
     "metadata": {},
     "output_type": "execute_result"
    }
   ],
   "source": [
    "df.shape"
   ]
  },
  {
   "cell_type": "code",
   "execution_count": 3,
   "metadata": {
    "ExecuteTime": {
     "end_time": "2020-05-01T16:57:55.122802Z",
     "start_time": "2020-05-01T16:57:55.101896Z"
    }
   },
   "outputs": [
    {
     "data": {
      "text/html": [
       "<div>\n",
       "<style scoped>\n",
       "    .dataframe tbody tr th:only-of-type {\n",
       "        vertical-align: middle;\n",
       "    }\n",
       "\n",
       "    .dataframe tbody tr th {\n",
       "        vertical-align: top;\n",
       "    }\n",
       "\n",
       "    .dataframe thead th {\n",
       "        text-align: right;\n",
       "    }\n",
       "</style>\n",
       "<table border=\"1\" class=\"dataframe\">\n",
       "  <thead>\n",
       "    <tr style=\"text-align: right;\">\n",
       "      <th></th>\n",
       "      <th>Area</th>\n",
       "      <th>BHK</th>\n",
       "      <th>Bathroom</th>\n",
       "      <th>Furnishing</th>\n",
       "      <th>Locality</th>\n",
       "      <th>Parking</th>\n",
       "      <th>Price</th>\n",
       "      <th>Status</th>\n",
       "      <th>Transaction</th>\n",
       "      <th>Type</th>\n",
       "      <th>Per_Sqft</th>\n",
       "    </tr>\n",
       "  </thead>\n",
       "  <tbody>\n",
       "    <tr>\n",
       "      <th>0</th>\n",
       "      <td>800.0</td>\n",
       "      <td>3</td>\n",
       "      <td>2.0</td>\n",
       "      <td>Semi-Furnished</td>\n",
       "      <td>Rohini Sector 25</td>\n",
       "      <td>1.0</td>\n",
       "      <td>6500000</td>\n",
       "      <td>Ready_to_move</td>\n",
       "      <td>New_Property</td>\n",
       "      <td>Builder_Floor</td>\n",
       "      <td>NaN</td>\n",
       "    </tr>\n",
       "    <tr>\n",
       "      <th>1</th>\n",
       "      <td>750.0</td>\n",
       "      <td>2</td>\n",
       "      <td>2.0</td>\n",
       "      <td>Semi-Furnished</td>\n",
       "      <td>J R Designers Floors, Rohini Sector 24</td>\n",
       "      <td>1.0</td>\n",
       "      <td>5000000</td>\n",
       "      <td>Ready_to_move</td>\n",
       "      <td>New_Property</td>\n",
       "      <td>Apartment</td>\n",
       "      <td>6667.0</td>\n",
       "    </tr>\n",
       "    <tr>\n",
       "      <th>2</th>\n",
       "      <td>950.0</td>\n",
       "      <td>2</td>\n",
       "      <td>2.0</td>\n",
       "      <td>Furnished</td>\n",
       "      <td>Citizen Apartment, Rohini Sector 13</td>\n",
       "      <td>1.0</td>\n",
       "      <td>15500000</td>\n",
       "      <td>Ready_to_move</td>\n",
       "      <td>Resale</td>\n",
       "      <td>Apartment</td>\n",
       "      <td>6667.0</td>\n",
       "    </tr>\n",
       "    <tr>\n",
       "      <th>3</th>\n",
       "      <td>600.0</td>\n",
       "      <td>2</td>\n",
       "      <td>2.0</td>\n",
       "      <td>Semi-Furnished</td>\n",
       "      <td>Rohini Sector 24</td>\n",
       "      <td>1.0</td>\n",
       "      <td>4200000</td>\n",
       "      <td>Ready_to_move</td>\n",
       "      <td>Resale</td>\n",
       "      <td>Builder_Floor</td>\n",
       "      <td>6667.0</td>\n",
       "    </tr>\n",
       "    <tr>\n",
       "      <th>4</th>\n",
       "      <td>650.0</td>\n",
       "      <td>2</td>\n",
       "      <td>2.0</td>\n",
       "      <td>Semi-Furnished</td>\n",
       "      <td>Rohini Sector 24 carpet area 650 sqft status R...</td>\n",
       "      <td>1.0</td>\n",
       "      <td>6200000</td>\n",
       "      <td>Ready_to_move</td>\n",
       "      <td>New_Property</td>\n",
       "      <td>Builder_Floor</td>\n",
       "      <td>6667.0</td>\n",
       "    </tr>\n",
       "  </tbody>\n",
       "</table>\n",
       "</div>"
      ],
      "text/plain": [
       "    Area  BHK  Bathroom      Furnishing  \\\n",
       "0  800.0    3       2.0  Semi-Furnished   \n",
       "1  750.0    2       2.0  Semi-Furnished   \n",
       "2  950.0    2       2.0       Furnished   \n",
       "3  600.0    2       2.0  Semi-Furnished   \n",
       "4  650.0    2       2.0  Semi-Furnished   \n",
       "\n",
       "                                            Locality  Parking     Price  \\\n",
       "0                                   Rohini Sector 25      1.0   6500000   \n",
       "1             J R Designers Floors, Rohini Sector 24      1.0   5000000   \n",
       "2                Citizen Apartment, Rohini Sector 13      1.0  15500000   \n",
       "3                                   Rohini Sector 24      1.0   4200000   \n",
       "4  Rohini Sector 24 carpet area 650 sqft status R...      1.0   6200000   \n",
       "\n",
       "          Status   Transaction           Type  Per_Sqft  \n",
       "0  Ready_to_move  New_Property  Builder_Floor       NaN  \n",
       "1  Ready_to_move  New_Property      Apartment    6667.0  \n",
       "2  Ready_to_move        Resale      Apartment    6667.0  \n",
       "3  Ready_to_move        Resale  Builder_Floor    6667.0  \n",
       "4  Ready_to_move  New_Property  Builder_Floor    6667.0  "
      ]
     },
     "execution_count": 3,
     "metadata": {},
     "output_type": "execute_result"
    }
   ],
   "source": [
    "df.head()"
   ]
  },
  {
   "cell_type": "code",
   "execution_count": 20,
   "metadata": {
    "ExecuteTime": {
     "end_time": "2020-05-01T17:09:23.950937Z",
     "start_time": "2020-05-01T17:09:23.946019Z"
    }
   },
   "outputs": [
    {
     "data": {
      "text/plain": [
       "5000250"
      ]
     },
     "execution_count": 20,
     "metadata": {},
     "output_type": "execute_result"
    }
   ],
   "source": [
    "750*6667"
   ]
  },
  {
   "cell_type": "code",
   "execution_count": 4,
   "metadata": {
    "ExecuteTime": {
     "end_time": "2020-05-01T16:58:05.953079Z",
     "start_time": "2020-05-01T16:58:05.944502Z"
    }
   },
   "outputs": [
    {
     "data": {
      "text/plain": [
       "Index(['Area', 'BHK', 'Bathroom', 'Furnishing', 'Locality', 'Parking', 'Price',\n",
       "       'Status', 'Transaction', 'Type', 'Per_Sqft'],\n",
       "      dtype='object')"
      ]
     },
     "execution_count": 4,
     "metadata": {},
     "output_type": "execute_result"
    }
   ],
   "source": [
    "df.columns"
   ]
  },
  {
   "cell_type": "code",
   "execution_count": 12,
   "metadata": {
    "ExecuteTime": {
     "end_time": "2020-05-01T17:00:05.930743Z",
     "start_time": "2020-05-01T17:00:05.565283Z"
    }
   },
   "outputs": [
    {
     "data": {
      "text/plain": [
       "<matplotlib.axes._subplots.AxesSubplot at 0x11e3b9810>"
      ]
     },
     "execution_count": 12,
     "metadata": {},
     "output_type": "execute_result"
    },
    {
     "data": {
      "image/png": "[encoded data removed]",
      "text/plain": [
       "<Figure size 1800x720 with 2 Axes>"
      ]
     },
     "metadata": {
      "needs_background": "light"
     },
     "output_type": "display_data"
    }
   ],
   "source": [
    "missingno.matrix(df)"
   ]
  },
  {
   "cell_type": "markdown",
   "metadata": {},
   "source": [
    "#### Dropping Price Per Sqft \n",
    "<br>\n",
    "We need to predict price and hence price_per_sqft might be a subset of it. Since its redundant and causes multicolinearity, caio per_sqft.!\n",
    "<br>\n",
    "PS if rqd, we can easily fill them up using Price/Area=Price_per_sqft but isn't reqd."
   ]
  },
  {
   "cell_type": "code",
   "execution_count": 34,
   "metadata": {
    "ExecuteTime": {
     "end_time": "2020-05-01T17:33:15.235992Z",
     "start_time": "2020-05-01T17:33:15.222971Z"
    }
   },
   "outputs": [],
   "source": [
    "df.drop(['Per_Sqft'], axis='columns',inplace=True)"
   ]
  },
  {
   "cell_type": "code",
   "execution_count": 38,
   "metadata": {
    "ExecuteTime": {
     "end_time": "2020-05-01T17:35:43.612663Z",
     "start_time": "2020-05-01T17:35:43.603475Z"
    }
   },
   "outputs": [
    {
     "data": {
      "text/plain": [
       "Area            0\n",
       "BHK             0\n",
       "Bathroom        2\n",
       "Furnishing      5\n",
       "Locality        0\n",
       "Parking        33\n",
       "Price           0\n",
       "Status          0\n",
       "Transaction     0\n",
       "Type            5\n",
       "dtype: int64"
      ]
     },
     "execution_count": 38,
     "metadata": {},
     "output_type": "execute_result"
    }
   ],
   "source": [
    "df.isna().sum()"
   ]
  },
  {
   "cell_type": "code",
   "execution_count": 40,
   "metadata": {
    "ExecuteTime": {
     "end_time": "2020-05-01T17:37:25.338102Z",
     "start_time": "2020-05-01T17:37:25.330438Z"
    }
   },
   "outputs": [
    {
     "data": {
      "text/plain": [
       "array([ 2.,  3.,  4.,  1., nan,  5.,  6.,  7.])"
      ]
     },
     "execution_count": 40,
     "metadata": {},
     "output_type": "execute_result"
    }
   ],
   "source": [
    "df.Bathroom.unique()"
   ]
  },
  {
   "cell_type": "code",
   "execution_count": 49,
   "metadata": {
    "ExecuteTime": {
     "end_time": "2020-05-01T17:41:13.969950Z",
     "start_time": "2020-05-01T17:41:13.504089Z"
    }
   },
   "outputs": [
    {
     "data": {
      "text/plain": [
       "<matplotlib.legend.Legend at 0x123299dd0>"
      ]
     },
     "execution_count": 49,
     "metadata": {},
     "output_type": "execute_result"
    },
    {
     "data": {
      "image/png": "[encoded data removed]",
      "text/plain": [
       "<Figure size 1440x720 with 1 Axes>"
      ]
     },
     "metadata": {
      "needs_background": "light"
     },
     "output_type": "display_data"
    }
   ],
   "source": [
    "plt.figure(figsize=(20,10))\n",
    "g = sns.countplot(x='Bathroom',hue='BHK', data=df)\n",
    "for p in g.patches:\n",
    "    g.annotate(p.get_height(), (p.get_x() + p.get_width() / 2., p.get_height()), ha = 'center', va = 'center', xytext = (0, 10), textcoords = 'offset points')\n",
    "\n",
    "plt.legend(loc='upper right')"
   ]
  },
  {
   "cell_type": "code",
   "execution_count": 51,
   "metadata": {
    "ExecuteTime": {
     "end_time": "2020-05-01T17:45:36.628995Z",
     "start_time": "2020-05-01T17:45:36.616103Z"
    }
   },
   "outputs": [
    {
     "data": {
      "text/html": [
       "<div>\n",
       "<style scoped>\n",
       "    .dataframe tbody tr th:only-of-type {\n",
       "        vertical-align: middle;\n",
       "    }\n",
       "\n",
       "    .dataframe tbody tr th {\n",
       "        vertical-align: top;\n",
       "    }\n",
       "\n",
       "    .dataframe thead th {\n",
       "        text-align: right;\n",
       "    }\n",
       "</style>\n",
       "<table border=\"1\" class=\"dataframe\">\n",
       "  <thead>\n",
       "    <tr style=\"text-align: right;\">\n",
       "      <th></th>\n",
       "      <th>Area</th>\n",
       "      <th>BHK</th>\n",
       "      <th>Bathroom</th>\n",
       "      <th>Furnishing</th>\n",
       "      <th>Locality</th>\n",
       "      <th>Parking</th>\n",
       "      <th>Price</th>\n",
       "      <th>Status</th>\n",
       "      <th>Transaction</th>\n",
       "      <th>Type</th>\n",
       "    </tr>\n",
       "  </thead>\n",
       "  <tbody>\n",
       "    <tr>\n",
       "      <th>30</th>\n",
       "      <td>1500.0</td>\n",
       "      <td>1</td>\n",
       "      <td>NaN</td>\n",
       "      <td>Unfurnished</td>\n",
       "      <td>Lajpat Nagar 2</td>\n",
       "      <td>NaN</td>\n",
       "      <td>13500000</td>\n",
       "      <td>Ready_to_move</td>\n",
       "      <td>Resale</td>\n",
       "      <td>Apartment</td>\n",
       "    </tr>\n",
       "    <tr>\n",
       "      <th>120</th>\n",
       "      <td>1500.0</td>\n",
       "      <td>1</td>\n",
       "      <td>NaN</td>\n",
       "      <td>Unfurnished</td>\n",
       "      <td>Lajpat Nagar 2</td>\n",
       "      <td>NaN</td>\n",
       "      <td>13500000</td>\n",
       "      <td>Ready_to_move</td>\n",
       "      <td>Resale</td>\n",
       "      <td>Apartment</td>\n",
       "    </tr>\n",
       "  </tbody>\n",
       "</table>\n",
       "</div>"
      ],
      "text/plain": [
       "       Area  BHK  Bathroom   Furnishing        Locality  Parking     Price  \\\n",
       "30   1500.0    1       NaN  Unfurnished  Lajpat Nagar 2      NaN  13500000   \n",
       "120  1500.0    1       NaN  Unfurnished  Lajpat Nagar 2      NaN  13500000   \n",
       "\n",
       "            Status Transaction       Type  \n",
       "30   Ready_to_move      Resale  Apartment  \n",
       "120  Ready_to_move      Resale  Apartment  "
      ]
     },
     "execution_count": 51,
     "metadata": {},
     "output_type": "execute_result"
    }
   ],
   "source": [
    "df[df['Bathroom'].isna()]"
   ]
  },
  {
   "cell_type": "code",
   "execution_count": 120,
   "metadata": {
    "ExecuteTime": {
     "end_time": "2020-05-01T18:20:54.315544Z",
     "start_time": "2020-05-01T18:20:54.101830Z"
    }
   },
   "outputs": [
    {
     "data": {
      "image/png": "[encoded data removed]",
      "text/plain": [
       "<Figure size 720x360 with 1 Axes>"
      ]
     },
     "metadata": {
      "needs_background": "light"
     },
     "output_type": "display_data"
    }
   ],
   "source": [
    "plt.figure(figsize=(10,5))\n",
    "g = sns.barplot(x='BHK',y='Area', data=df[df['Locality'] == 'Lajpat Nagar 2'])\n",
    "i=1\n",
    "for p in g.patches:\n",
    "    height = p.get_height()\n",
    "    g.text(p.get_x()+p.get_width()/2., height + 0.1, df[df['Locality'] == 'Lajpat Nagar 2']['BHK'].value_counts()[i], ha='center')\n",
    "    i += 1"
   ]
  },
  {
   "cell_type": "code",
   "execution_count": 119,
   "metadata": {
    "ExecuteTime": {
     "end_time": "2020-05-01T18:20:39.854631Z",
     "start_time": "2020-05-01T18:20:39.658111Z"
    }
   },
   "outputs": [
    {
     "data": {
      "image/png": "[encoded data removed]",
      "text/plain": [
       "<Figure size 720x360 with 1 Axes>"
      ]
     },
     "metadata": {
      "needs_background": "light"
     },
     "output_type": "display_data"
    }
   ],
   "source": [
    "plt.figure(figsize=(10,5))\n",
    "g = sns.barplot(x='BHK',y='Price', data=df[df['Locality'] == 'Lajpat Nagar 2'])\n",
    "i=1\n",
    "for p in g.patches:\n",
    "    height = p.get_height()\n",
    "    g.text(p.get_x()+p.get_width()/2., height + 0.1, df[df['Locality'] == 'Lajpat Nagar 2']['BHK'].value_counts()[i], ha='center')\n",
    "    i += 1"
   ]
  },
  {
   "cell_type": "code",
   "execution_count": 72,
   "metadata": {
    "ExecuteTime": {
     "end_time": "2020-05-01T17:56:32.208106Z",
     "start_time": "2020-05-01T17:56:32.190630Z"
    }
   },
   "outputs": [
    {
     "data": {
      "text/html": [
       "<div>\n",
       "<style scoped>\n",
       "    .dataframe tbody tr th:only-of-type {\n",
       "        vertical-align: middle;\n",
       "    }\n",
       "\n",
       "    .dataframe tbody tr th {\n",
       "        vertical-align: top;\n",
       "    }\n",
       "\n",
       "    .dataframe thead th {\n",
       "        text-align: right;\n",
       "    }\n",
       "</style>\n",
       "<table border=\"1\" class=\"dataframe\">\n",
       "  <thead>\n",
       "    <tr style=\"text-align: right;\">\n",
       "      <th></th>\n",
       "      <th>Area</th>\n",
       "      <th>BHK</th>\n",
       "      <th>Bathroom</th>\n",
       "      <th>Furnishing</th>\n",
       "      <th>Locality</th>\n",
       "      <th>Parking</th>\n",
       "      <th>Price</th>\n",
       "      <th>Status</th>\n",
       "      <th>Transaction</th>\n",
       "      <th>Type</th>\n",
       "    </tr>\n",
       "  </thead>\n",
       "  <tbody>\n",
       "    <tr>\n",
       "      <th>30</th>\n",
       "      <td>1500.0</td>\n",
       "      <td>1</td>\n",
       "      <td>NaN</td>\n",
       "      <td>Unfurnished</td>\n",
       "      <td>Lajpat Nagar 2</td>\n",
       "      <td>NaN</td>\n",
       "      <td>13500000</td>\n",
       "      <td>Ready_to_move</td>\n",
       "      <td>Resale</td>\n",
       "      <td>Apartment</td>\n",
       "    </tr>\n",
       "    <tr>\n",
       "      <th>120</th>\n",
       "      <td>1500.0</td>\n",
       "      <td>1</td>\n",
       "      <td>NaN</td>\n",
       "      <td>Unfurnished</td>\n",
       "      <td>Lajpat Nagar 2</td>\n",
       "      <td>NaN</td>\n",
       "      <td>13500000</td>\n",
       "      <td>Ready_to_move</td>\n",
       "      <td>Resale</td>\n",
       "      <td>Apartment</td>\n",
       "    </tr>\n",
       "  </tbody>\n",
       "</table>\n",
       "</div>"
      ],
      "text/plain": [
       "       Area  BHK  Bathroom   Furnishing        Locality  Parking     Price  \\\n",
       "30   1500.0    1       NaN  Unfurnished  Lajpat Nagar 2      NaN  13500000   \n",
       "120  1500.0    1       NaN  Unfurnished  Lajpat Nagar 2      NaN  13500000   \n",
       "\n",
       "            Status Transaction       Type  \n",
       "30   Ready_to_move      Resale  Apartment  \n",
       "120  Ready_to_move      Resale  Apartment  "
      ]
     },
     "execution_count": 72,
     "metadata": {},
     "output_type": "execute_result"
    }
   ],
   "source": [
    "df[(df['Locality'] == 'Lajpat Nagar 2') & (df['BHK'] == 1)]"
   ]
  },
  {
   "cell_type": "markdown",
   "metadata": {},
   "source": [
    "#### Missing Bathroom Dilemma\n",
    "Both entries where Bathroom is missing is 1BHK.  Most likeliy that would have 1 Bathroom. On the contrary, it has a huge area so having 2 bathrooms is a possibility. Since there is not much data, dropping them probably is not a good idea. Lets fill them as 2."
   ]
  },
  {
   "cell_type": "code",
   "execution_count": 85,
   "metadata": {
    "ExecuteTime": {
     "end_time": "2020-05-01T18:06:23.280646Z",
     "start_time": "2020-05-01T18:06:23.274428Z"
    }
   },
   "outputs": [],
   "source": [
    "df.Bathroom.fillna(2,inplace=True)"
   ]
  },
  {
   "cell_type": "code",
   "execution_count": 86,
   "metadata": {
    "ExecuteTime": {
     "end_time": "2020-05-01T18:06:41.223183Z",
     "start_time": "2020-05-01T18:06:40.843350Z"
    }
   },
   "outputs": [
    {
     "data": {
      "text/plain": [
       "<matplotlib.axes._subplots.AxesSubplot at 0x127882810>"
      ]
     },
     "execution_count": 86,
     "metadata": {},
     "output_type": "execute_result"
    },
    {
     "data": {
      "image/png": "[encoded data removed]",
      "text/plain": [
       "<Figure size 1800x720 with 2 Axes>"
      ]
     },
     "metadata": {
      "needs_background": "light"
     },
     "output_type": "display_data"
    }
   ],
   "source": [
    "missingno.matrix(df)"
   ]
  },
  {
   "cell_type": "markdown",
   "metadata": {},
   "source": [
    "#### Missing Parking Values\n",
    "Probably missing parking values means no parking and hence 0"
   ]
  },
  {
   "cell_type": "code",
   "execution_count": 122,
   "metadata": {
    "ExecuteTime": {
     "end_time": "2020-05-01T18:24:56.399192Z",
     "start_time": "2020-05-01T18:24:56.395232Z"
    }
   },
   "outputs": [],
   "source": [
    "df.Parking.fillna(0,inplace=True)"
   ]
  },
  {
   "cell_type": "code",
   "execution_count": 135,
   "metadata": {
    "ExecuteTime": {
     "end_time": "2020-05-01T18:32:15.864630Z",
     "start_time": "2020-05-01T18:32:15.483975Z"
    }
   },
   "outputs": [
    {
     "data": {
      "text/plain": [
       "<matplotlib.axes._subplots.AxesSubplot at 0x126ce7150>"
      ]
     },
     "execution_count": 135,
     "metadata": {},
     "output_type": "execute_result"
    },
    {
     "data": {
      "image/png": "[encoded data removed]",
      "text/plain": [
       "<Figure size 1800x720 with 2 Axes>"
      ]
     },
     "metadata": {
      "needs_background": "light"
     },
     "output_type": "display_data"
    }
   ],
   "source": [
    "missingno.matrix(df)"
   ]
  },
  {
   "cell_type": "code",
   "execution_count": 124,
   "metadata": {
    "ExecuteTime": {
     "end_time": "2020-05-01T18:26:36.890044Z",
     "start_time": "2020-05-01T18:26:36.872532Z"
    }
   },
   "outputs": [
    {
     "data": {
      "text/html": [
       "<div>\n",
       "<style scoped>\n",
       "    .dataframe tbody tr th:only-of-type {\n",
       "        vertical-align: middle;\n",
       "    }\n",
       "\n",
       "    .dataframe tbody tr th {\n",
       "        vertical-align: top;\n",
       "    }\n",
       "\n",
       "    .dataframe thead th {\n",
       "        text-align: right;\n",
       "    }\n",
       "</style>\n",
       "<table border=\"1\" class=\"dataframe\">\n",
       "  <thead>\n",
       "    <tr style=\"text-align: right;\">\n",
       "      <th></th>\n",
       "      <th>Area</th>\n",
       "      <th>BHK</th>\n",
       "      <th>Bathroom</th>\n",
       "      <th>Furnishing</th>\n",
       "      <th>Locality</th>\n",
       "      <th>Parking</th>\n",
       "      <th>Price</th>\n",
       "      <th>Status</th>\n",
       "      <th>Transaction</th>\n",
       "      <th>Type</th>\n",
       "    </tr>\n",
       "  </thead>\n",
       "  <tbody>\n",
       "    <tr>\n",
       "      <th>509</th>\n",
       "      <td>450.0</td>\n",
       "      <td>2</td>\n",
       "      <td>2.0</td>\n",
       "      <td>NaN</td>\n",
       "      <td>Gandhi Nagar, Shahdara</td>\n",
       "      <td>0.0</td>\n",
       "      <td>2900000</td>\n",
       "      <td>Ready_to_move</td>\n",
       "      <td>Resale</td>\n",
       "      <td>NaN</td>\n",
       "    </tr>\n",
       "    <tr>\n",
       "      <th>510</th>\n",
       "      <td>540.0</td>\n",
       "      <td>5</td>\n",
       "      <td>2.0</td>\n",
       "      <td>NaN</td>\n",
       "      <td>Gandhi Nagar, Shahdara</td>\n",
       "      <td>0.0</td>\n",
       "      <td>17000000</td>\n",
       "      <td>Ready_to_move</td>\n",
       "      <td>Resale</td>\n",
       "      <td>NaN</td>\n",
       "    </tr>\n",
       "    <tr>\n",
       "      <th>511</th>\n",
       "      <td>1350.0</td>\n",
       "      <td>3</td>\n",
       "      <td>3.0</td>\n",
       "      <td>NaN</td>\n",
       "      <td>Gandhi Nagar, Shahdara</td>\n",
       "      <td>0.0</td>\n",
       "      <td>25000000</td>\n",
       "      <td>Ready_to_move</td>\n",
       "      <td>Resale</td>\n",
       "      <td>NaN</td>\n",
       "    </tr>\n",
       "    <tr>\n",
       "      <th>512</th>\n",
       "      <td>2250.0</td>\n",
       "      <td>3</td>\n",
       "      <td>2.0</td>\n",
       "      <td>NaN</td>\n",
       "      <td>Gandhi Nagar, Shahdara</td>\n",
       "      <td>0.0</td>\n",
       "      <td>10000000</td>\n",
       "      <td>Ready_to_move</td>\n",
       "      <td>Resale</td>\n",
       "      <td>NaN</td>\n",
       "    </tr>\n",
       "    <tr>\n",
       "      <th>719</th>\n",
       "      <td>1500.0</td>\n",
       "      <td>3</td>\n",
       "      <td>2.0</td>\n",
       "      <td>NaN</td>\n",
       "      <td>Sarita Vihar, Mathura Road carpet area 1500 sq...</td>\n",
       "      <td>1.0</td>\n",
       "      <td>13500000</td>\n",
       "      <td>Ready_to_move</td>\n",
       "      <td>Resale</td>\n",
       "      <td>NaN</td>\n",
       "    </tr>\n",
       "  </tbody>\n",
       "</table>\n",
       "</div>"
      ],
      "text/plain": [
       "       Area  BHK  Bathroom Furnishing  \\\n",
       "509   450.0    2       2.0        NaN   \n",
       "510   540.0    5       2.0        NaN   \n",
       "511  1350.0    3       3.0        NaN   \n",
       "512  2250.0    3       2.0        NaN   \n",
       "719  1500.0    3       2.0        NaN   \n",
       "\n",
       "                                              Locality  Parking     Price  \\\n",
       "509                             Gandhi Nagar, Shahdara      0.0   2900000   \n",
       "510                             Gandhi Nagar, Shahdara      0.0  17000000   \n",
       "511                             Gandhi Nagar, Shahdara      0.0  25000000   \n",
       "512                             Gandhi Nagar, Shahdara      0.0  10000000   \n",
       "719  Sarita Vihar, Mathura Road carpet area 1500 sq...      1.0  13500000   \n",
       "\n",
       "            Status Transaction Type  \n",
       "509  Ready_to_move      Resale  NaN  \n",
       "510  Ready_to_move      Resale  NaN  \n",
       "511  Ready_to_move      Resale  NaN  \n",
       "512  Ready_to_move      Resale  NaN  \n",
       "719  Ready_to_move      Resale  NaN  "
      ]
     },
     "execution_count": 124,
     "metadata": {},
     "output_type": "execute_result"
    }
   ],
   "source": [
    "df[df['Furnishing'].isna()]"
   ]
  },
  {
   "cell_type": "code",
   "execution_count": 133,
   "metadata": {
    "ExecuteTime": {
     "end_time": "2020-05-01T18:31:53.975432Z",
     "start_time": "2020-05-01T18:31:53.968952Z"
    }
   },
   "outputs": [
    {
     "data": {
      "text/plain": [
       "'Sarita Vihar, Mathura Road carpet area 1500 sqft status Ready to Move floor 2 out of 4 floors transaction Resale ownership Freehold overlooking Main Road car parking 1 Open bathroom 2 balcony 2 furnishing Unfurnished For sale second third duplex .spacious 3 bedrooms with 2 washrooms drawing and dining and moduler kitchen one scooter garrage. read more Contact Agent View Phone No. Share Feedback Shree Balaji Real Estate Pvt. Ltd. Has Maximum Property Options Is the Top Agent of the Locality Is Trusted by All Users 21 Property Options in Sarita Vihar, Mathura Road Shree Balaji Real Estate Pvt. Ltd. Certified Agent Locality Superstar Maximum options in Sarita Vihar, Mathura Road'"
      ]
     },
     "execution_count": 133,
     "metadata": {},
     "output_type": "execute_result"
    }
   ],
   "source": [
    "df.iloc[719,4]"
   ]
  },
  {
   "cell_type": "markdown",
   "metadata": {},
   "source": [
    "#### Woah! They had information hidden for this one!\n",
    "Apparently, Furnishing is 'Unfurnished' and Type is 'Builder Floor'"
   ]
  },
  {
   "cell_type": "code",
   "execution_count": 130,
   "metadata": {
    "ExecuteTime": {
     "end_time": "2020-05-01T18:31:24.557999Z",
     "start_time": "2020-05-01T18:31:24.553799Z"
    }
   },
   "outputs": [],
   "source": [
    "df.iloc[719,3] = 'Unfurnished'\n",
    "df.iloc[719,9] = 'Builder_Floor'"
   ]
  },
  {
   "cell_type": "code",
   "execution_count": 150,
   "metadata": {
    "ExecuteTime": {
     "end_time": "2020-05-01T18:45:19.264351Z",
     "start_time": "2020-05-01T18:45:19.250341Z"
    }
   },
   "outputs": [
    {
     "data": {
      "text/html": [
       "<div>\n",
       "<style scoped>\n",
       "    .dataframe tbody tr th:only-of-type {\n",
       "        vertical-align: middle;\n",
       "    }\n",
       "\n",
       "    .dataframe tbody tr th {\n",
       "        vertical-align: top;\n",
       "    }\n",
       "\n",
       "    .dataframe thead th {\n",
       "        text-align: right;\n",
       "    }\n",
       "</style>\n",
       "<table border=\"1\" class=\"dataframe\">\n",
       "  <thead>\n",
       "    <tr style=\"text-align: right;\">\n",
       "      <th></th>\n",
       "      <th>Area</th>\n",
       "      <th>BHK</th>\n",
       "      <th>Bathroom</th>\n",
       "      <th>Furnishing</th>\n",
       "      <th>Locality</th>\n",
       "      <th>Parking</th>\n",
       "      <th>Price</th>\n",
       "      <th>Status</th>\n",
       "      <th>Transaction</th>\n",
       "      <th>Type</th>\n",
       "    </tr>\n",
       "  </thead>\n",
       "  <tbody>\n",
       "    <tr>\n",
       "      <th>509</th>\n",
       "      <td>450.0</td>\n",
       "      <td>2</td>\n",
       "      <td>2.0</td>\n",
       "      <td>NaN</td>\n",
       "      <td>Gandhi Nagar, Shahdara</td>\n",
       "      <td>0.0</td>\n",
       "      <td>2900000</td>\n",
       "      <td>Ready_to_move</td>\n",
       "      <td>Resale</td>\n",
       "      <td>NaN</td>\n",
       "    </tr>\n",
       "    <tr>\n",
       "      <th>510</th>\n",
       "      <td>540.0</td>\n",
       "      <td>5</td>\n",
       "      <td>2.0</td>\n",
       "      <td>NaN</td>\n",
       "      <td>Gandhi Nagar, Shahdara</td>\n",
       "      <td>0.0</td>\n",
       "      <td>17000000</td>\n",
       "      <td>Ready_to_move</td>\n",
       "      <td>Resale</td>\n",
       "      <td>NaN</td>\n",
       "    </tr>\n",
       "    <tr>\n",
       "      <th>511</th>\n",
       "      <td>1350.0</td>\n",
       "      <td>3</td>\n",
       "      <td>3.0</td>\n",
       "      <td>NaN</td>\n",
       "      <td>Gandhi Nagar, Shahdara</td>\n",
       "      <td>0.0</td>\n",
       "      <td>25000000</td>\n",
       "      <td>Ready_to_move</td>\n",
       "      <td>Resale</td>\n",
       "      <td>NaN</td>\n",
       "    </tr>\n",
       "    <tr>\n",
       "      <th>512</th>\n",
       "      <td>2250.0</td>\n",
       "      <td>3</td>\n",
       "      <td>2.0</td>\n",
       "      <td>NaN</td>\n",
       "      <td>Gandhi Nagar, Shahdara</td>\n",
       "      <td>0.0</td>\n",
       "      <td>10000000</td>\n",
       "      <td>Ready_to_move</td>\n",
       "      <td>Resale</td>\n",
       "      <td>NaN</td>\n",
       "    </tr>\n",
       "  </tbody>\n",
       "</table>\n",
       "</div>"
      ],
      "text/plain": [
       "       Area  BHK  Bathroom Furnishing                Locality  Parking  \\\n",
       "509   450.0    2       2.0        NaN  Gandhi Nagar, Shahdara      0.0   \n",
       "510   540.0    5       2.0        NaN  Gandhi Nagar, Shahdara      0.0   \n",
       "511  1350.0    3       3.0        NaN  Gandhi Nagar, Shahdara      0.0   \n",
       "512  2250.0    3       2.0        NaN  Gandhi Nagar, Shahdara      0.0   \n",
       "\n",
       "        Price         Status Transaction Type  \n",
       "509   2900000  Ready_to_move      Resale  NaN  \n",
       "510  17000000  Ready_to_move      Resale  NaN  \n",
       "511  25000000  Ready_to_move      Resale  NaN  \n",
       "512  10000000  Ready_to_move      Resale  NaN  "
      ]
     },
     "execution_count": 150,
     "metadata": {},
     "output_type": "execute_result"
    }
   ],
   "source": [
    "df[df['Furnishing'].isna()]"
   ]
  },
  {
   "cell_type": "code",
   "execution_count": 151,
   "metadata": {
    "ExecuteTime": {
     "end_time": "2020-05-01T18:45:23.219447Z",
     "start_time": "2020-05-01T18:45:23.204431Z"
    }
   },
   "outputs": [
    {
     "data": {
      "text/html": [
       "<div>\n",
       "<style scoped>\n",
       "    .dataframe tbody tr th:only-of-type {\n",
       "        vertical-align: middle;\n",
       "    }\n",
       "\n",
       "    .dataframe tbody tr th {\n",
       "        vertical-align: top;\n",
       "    }\n",
       "\n",
       "    .dataframe thead th {\n",
       "        text-align: right;\n",
       "    }\n",
       "</style>\n",
       "<table border=\"1\" class=\"dataframe\">\n",
       "  <thead>\n",
       "    <tr style=\"text-align: right;\">\n",
       "      <th></th>\n",
       "      <th>Area</th>\n",
       "      <th>BHK</th>\n",
       "      <th>Bathroom</th>\n",
       "      <th>Furnishing</th>\n",
       "      <th>Locality</th>\n",
       "      <th>Parking</th>\n",
       "      <th>Price</th>\n",
       "      <th>Status</th>\n",
       "      <th>Transaction</th>\n",
       "      <th>Type</th>\n",
       "    </tr>\n",
       "  </thead>\n",
       "  <tbody>\n",
       "    <tr>\n",
       "      <th>509</th>\n",
       "      <td>450.0</td>\n",
       "      <td>2</td>\n",
       "      <td>2.0</td>\n",
       "      <td>NaN</td>\n",
       "      <td>Gandhi Nagar, Shahdara</td>\n",
       "      <td>0.0</td>\n",
       "      <td>2900000</td>\n",
       "      <td>Ready_to_move</td>\n",
       "      <td>Resale</td>\n",
       "      <td>NaN</td>\n",
       "    </tr>\n",
       "    <tr>\n",
       "      <th>510</th>\n",
       "      <td>540.0</td>\n",
       "      <td>5</td>\n",
       "      <td>2.0</td>\n",
       "      <td>NaN</td>\n",
       "      <td>Gandhi Nagar, Shahdara</td>\n",
       "      <td>0.0</td>\n",
       "      <td>17000000</td>\n",
       "      <td>Ready_to_move</td>\n",
       "      <td>Resale</td>\n",
       "      <td>NaN</td>\n",
       "    </tr>\n",
       "    <tr>\n",
       "      <th>511</th>\n",
       "      <td>1350.0</td>\n",
       "      <td>3</td>\n",
       "      <td>3.0</td>\n",
       "      <td>NaN</td>\n",
       "      <td>Gandhi Nagar, Shahdara</td>\n",
       "      <td>0.0</td>\n",
       "      <td>25000000</td>\n",
       "      <td>Ready_to_move</td>\n",
       "      <td>Resale</td>\n",
       "      <td>NaN</td>\n",
       "    </tr>\n",
       "    <tr>\n",
       "      <th>512</th>\n",
       "      <td>2250.0</td>\n",
       "      <td>3</td>\n",
       "      <td>2.0</td>\n",
       "      <td>NaN</td>\n",
       "      <td>Gandhi Nagar, Shahdara</td>\n",
       "      <td>0.0</td>\n",
       "      <td>10000000</td>\n",
       "      <td>Ready_to_move</td>\n",
       "      <td>Resale</td>\n",
       "      <td>NaN</td>\n",
       "    </tr>\n",
       "  </tbody>\n",
       "</table>\n",
       "</div>"
      ],
      "text/plain": [
       "       Area  BHK  Bathroom Furnishing                Locality  Parking  \\\n",
       "509   450.0    2       2.0        NaN  Gandhi Nagar, Shahdara      0.0   \n",
       "510   540.0    5       2.0        NaN  Gandhi Nagar, Shahdara      0.0   \n",
       "511  1350.0    3       3.0        NaN  Gandhi Nagar, Shahdara      0.0   \n",
       "512  2250.0    3       2.0        NaN  Gandhi Nagar, Shahdara      0.0   \n",
       "\n",
       "        Price         Status Transaction Type  \n",
       "509   2900000  Ready_to_move      Resale  NaN  \n",
       "510  17000000  Ready_to_move      Resale  NaN  \n",
       "511  25000000  Ready_to_move      Resale  NaN  \n",
       "512  10000000  Ready_to_move      Resale  NaN  "
      ]
     },
     "execution_count": 151,
     "metadata": {},
     "output_type": "execute_result"
    }
   ],
   "source": [
    "df[df['Locality'] == 'Gandhi Nagar, Shahdara']"
   ]
  },
  {
   "cell_type": "markdown",
   "metadata": {},
   "source": [
    "All of the entries for Gandhi Nagar, Shahdara ie 4 have NaN in Furnishing.! Also These are the 4 entries where Type is missing too.!"
   ]
  },
  {
   "cell_type": "code",
   "execution_count": 174,
   "metadata": {
    "ExecuteTime": {
     "end_time": "2020-05-01T19:20:57.754068Z",
     "start_time": "2020-05-01T19:20:57.223950Z"
    }
   },
   "outputs": [
    {
     "data": {
      "text/plain": [
       "Text(0.5, 1.0, 'Read_to_move')"
      ]
     },
     "execution_count": 174,
     "metadata": {},
     "output_type": "execute_result"
    },
    {
     "data": {
      "image/png": "[encoded data removed]",
      "text/plain": [
       "<Figure size 1440x1080 with 2 Axes>"
      ]
     },
     "metadata": {
      "needs_background": "light"
     },
     "output_type": "display_data"
    }
   ],
   "source": [
    "plt.figure(figsize=(20,15))\n",
    "plt.subplot(2,1,1)\n",
    "sns.countplot(x='Furnishing',hue='BHK', data = df[df['Transaction']=='Resale'].sort_values(by='Furnishing'))\n",
    "plt.title('Resale')\n",
    "plt.subplot(2,1,2)\n",
    "sns.countplot(x='Furnishing',hue='BHK', data = df[df['Status']=='Ready_to_move'].sort_values(by='Furnishing'))\n",
    "plt.title('Read_to_move')"
   ]
  },
  {
   "cell_type": "markdown",
   "metadata": {},
   "source": [
    "Looks like we can settle up on Semi Furnished."
   ]
  },
  {
   "cell_type": "code",
   "execution_count": 182,
   "metadata": {
    "ExecuteTime": {
     "end_time": "2020-05-01T19:24:29.025409Z",
     "start_time": "2020-05-01T19:24:29.021246Z"
    }
   },
   "outputs": [],
   "source": [
    "df.Furnishing.fillna('Semi-Furnished',inplace=True)"
   ]
  },
  {
   "cell_type": "code",
   "execution_count": 178,
   "metadata": {
    "ExecuteTime": {
     "end_time": "2020-05-01T19:22:31.726668Z",
     "start_time": "2020-05-01T19:22:31.470186Z"
    }
   },
   "outputs": [
    {
     "data": {
      "text/plain": [
       "Text(0.5, 1.0, 'Ready To Move')"
      ]
     },
     "execution_count": 178,
     "metadata": {},
     "output_type": "execute_result"
    },
    {
     "data": {
      "image/png": "[encoded data removed]",
      "text/plain": [
       "<Figure size 1440x504 with 2 Axes>"
      ]
     },
     "metadata": {
      "needs_background": "light"
     },
     "output_type": "display_data"
    }
   ],
   "source": [
    "plt.figure(figsize=(20,7))\n",
    "plt.subplot(1,2,1)\n",
    "sns.countplot(x='Type', data = df[df['Transaction']=='Resale'].sort_values(by='Type'))\n",
    "plt.title('Resale')\n",
    "plt.subplot(1,2,2)\n",
    "sns.countplot(x='Type', data = df[df['Status']=='Ready_to_move'].sort_values(by='Type'))\n",
    "plt.title('Ready To Move')"
   ]
  },
  {
   "cell_type": "code",
   "execution_count": 195,
   "metadata": {
    "ExecuteTime": {
     "end_time": "2020-05-01T19:31:50.213669Z",
     "start_time": "2020-05-01T19:31:50.089007Z"
    }
   },
   "outputs": [
    {
     "data": {
      "text/plain": [
       "<matplotlib.axes._subplots.AxesSubplot at 0x12ec5fdd0>"
      ]
     },
     "execution_count": 195,
     "metadata": {},
     "output_type": "execute_result"
    },
    {
     "data": {
      "image/png": "[encoded data removed]",
      "text/plain": [
       "<Figure size 432x288 with 1 Axes>"
      ]
     },
     "metadata": {
      "needs_background": "light"
     },
     "output_type": "display_data"
    }
   ],
   "source": [
    "sns.countplot(x='Type', data = df[df['Furnishing']=='Semi-Furnished'].sort_values(by='Type'))"
   ]
  },
  {
   "cell_type": "code",
   "execution_count": 192,
   "metadata": {
    "ExecuteTime": {
     "end_time": "2020-05-01T19:29:42.153141Z",
     "start_time": "2020-05-01T19:29:42.144736Z"
    }
   },
   "outputs": [
    {
     "data": {
      "text/plain": [
       "Builder_Floor    662\n",
       "Apartment        593\n",
       "Name: Type, dtype: int64"
      ]
     },
     "execution_count": 192,
     "metadata": {},
     "output_type": "execute_result"
    }
   ],
   "source": [
    "df.Type.value_counts()"
   ]
  },
  {
   "cell_type": "code",
   "execution_count": 208,
   "metadata": {
    "ExecuteTime": {
     "end_time": "2020-05-01T19:35:34.833223Z",
     "start_time": "2020-05-01T19:35:34.633880Z"
    }
   },
   "outputs": [
    {
     "data": {
      "text/plain": [
       "<matplotlib.axes._subplots.AxesSubplot at 0x11daabd50>"
      ]
     },
     "execution_count": 208,
     "metadata": {},
     "output_type": "execute_result"
    },
    {
     "data": {
      "image/png": "[encoded data removed]",
      "text/plain": [
       "<Figure size 432x288 with 2 Axes>"
      ]
     },
     "metadata": {
      "needs_background": "light"
     },
     "output_type": "display_data"
    }
   ],
   "source": [
    "plt.figure(figsize=())\n",
    "plt.subplot(1,2,1)\n",
    "sns.countplot(x='Type', data = df[(df['Furnishing']=='Semi-Furnished') & (df['Area']>=1000)].sort_values(by='Type'))\n",
    "plt.subplot(1,2,2)\n",
    "sns.countplot(x='Type', data = df[(df['Furnishing']=='Semi-Furnished') & (df['Area']<1000)].sort_values(by='Type'))"
   ]
  },
  {
   "cell_type": "code",
   "execution_count": 204,
   "metadata": {
    "ExecuteTime": {
     "end_time": "2020-05-01T19:34:11.512821Z",
     "start_time": "2020-05-01T19:34:11.380477Z"
    }
   },
   "outputs": [
    {
     "data": {
      "text/plain": [
       "<matplotlib.axes._subplots.AxesSubplot at 0x129db9990>"
      ]
     },
     "execution_count": 204,
     "metadata": {},
     "output_type": "execute_result"
    },
    {
     "data": {
      "image/png": "[encoded data removed]",
      "text/plain": [
       "<Figure size 432x288 with 1 Axes>"
      ]
     },
     "metadata": {
      "needs_background": "light"
     },
     "output_type": "display_data"
    }
   ],
   "source": [
    "sns.countplot(x='Type', data = df[(df['Furnishing']=='Semi-Furnished') & (df['Area']<1000)].sort_values(by='Type'))"
   ]
  },
  {
   "cell_type": "code",
   "execution_count": null,
   "metadata": {},
   "outputs": [],
   "source": []
  }
 ],
 "metadata": {
  "kernelspec": {
   "display_name": "Python 3",
   "language": "python",
   "name": "python3"
  },
  "language_info": {
   "codemirror_mode": {
    "name": "ipython",
    "version": 3
   },
   "file_extension": ".py",
   "mimetype": "text/x-python",
   "name": "python",
   "nbconvert_exporter": "python",
   "pygments_lexer": "ipython3",
   "version": "3.7.7"
  },
  "varInspector": {
   "cols": {
    "lenName": 16,
    "lenType": 16,
    "lenVar": 40
   },
   "kernels_config": {
    "python": {
     "delete_cmd_postfix": "",
     "delete_cmd_prefix": "del ",
     "library": "var_list.py",
     "varRefreshCmd": "print(var_dic_list())"
    },
    "r": {
     "delete_cmd_postfix": ") ",
     "delete_cmd_prefix": "rm(",
     "library": "var_list.r",
     "varRefreshCmd": "cat(var_dic_list()) "
    }
   },
   "types_to_exclude": [
    "module",
    "function",
    "builtin_function_or_method",
    "instance",
    "_Feature"
   ],
   "window_display": false
  }
 },
 "nbformat": 4,
 "nbformat_minor": 4
}
