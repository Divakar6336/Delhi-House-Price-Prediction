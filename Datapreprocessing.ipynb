{
 "cells": [
  {
   "cell_type": "markdown",
   "metadata": {},
   "source": [
    "#House price prediction (Delhi)"
   ]
  },
  {
   "cell_type": "code",
   "execution_count": 1,
   "metadata": {},
   "outputs": [],
   "source": [
    "import numpy as np\n",
    "import pandas as pd \n"
   ]
  },
  {
   "cell_type": "code",
   "execution_count": 52,
   "metadata": {},
   "outputs": [],
   "source": [
    "import matplotlib.pyplot as plt\n",
    "%matplotlib inline \n",
    "import seaborn as sns"
   ]
  },
  {
   "cell_type": "code",
   "execution_count": 143,
   "metadata": {},
   "outputs": [],
   "source": [
    "House_data = pd.read_csv(\"MagicBricks.csv\")"
   ]
  },
  {
   "cell_type": "code",
   "execution_count": 144,
   "metadata": {},
   "outputs": [
    {
     "data": {
      "text/html": [
       "<div>\n",
       "<style scoped>\n",
       "    .dataframe tbody tr th:only-of-type {\n",
       "        vertical-align: middle;\n",
       "    }\n",
       "\n",
       "    .dataframe tbody tr th {\n",
       "        vertical-align: top;\n",
       "    }\n",
       "\n",
       "    .dataframe thead th {\n",
       "        text-align: right;\n",
       "    }\n",
       "</style>\n",
       "<table border=\"1\" class=\"dataframe\">\n",
       "  <thead>\n",
       "    <tr style=\"text-align: right;\">\n",
       "      <th></th>\n",
       "      <th>Area</th>\n",
       "      <th>BHK</th>\n",
       "      <th>Bathroom</th>\n",
       "      <th>Furnishing</th>\n",
       "      <th>Locality</th>\n",
       "      <th>Parking</th>\n",
       "      <th>Price</th>\n",
       "      <th>Status</th>\n",
       "      <th>Transaction</th>\n",
       "      <th>Type</th>\n",
       "      <th>Per_Sqft</th>\n",
       "    </tr>\n",
       "  </thead>\n",
       "  <tbody>\n",
       "    <tr>\n",
       "      <td>0</td>\n",
       "      <td>800.0</td>\n",
       "      <td>3</td>\n",
       "      <td>2.0</td>\n",
       "      <td>Semi-Furnished</td>\n",
       "      <td>Rohini Sector 25</td>\n",
       "      <td>1.0</td>\n",
       "      <td>6500000</td>\n",
       "      <td>Ready_to_move</td>\n",
       "      <td>New_Property</td>\n",
       "      <td>Builder_Floor</td>\n",
       "      <td>NaN</td>\n",
       "    </tr>\n",
       "    <tr>\n",
       "      <td>1</td>\n",
       "      <td>750.0</td>\n",
       "      <td>2</td>\n",
       "      <td>2.0</td>\n",
       "      <td>Semi-Furnished</td>\n",
       "      <td>J R Designers Floors, Rohini Sector 24</td>\n",
       "      <td>1.0</td>\n",
       "      <td>5000000</td>\n",
       "      <td>Ready_to_move</td>\n",
       "      <td>New_Property</td>\n",
       "      <td>Apartment</td>\n",
       "      <td>6667.0</td>\n",
       "    </tr>\n",
       "    <tr>\n",
       "      <td>2</td>\n",
       "      <td>950.0</td>\n",
       "      <td>2</td>\n",
       "      <td>2.0</td>\n",
       "      <td>Furnished</td>\n",
       "      <td>Citizen Apartment, Rohini Sector 13</td>\n",
       "      <td>1.0</td>\n",
       "      <td>15500000</td>\n",
       "      <td>Ready_to_move</td>\n",
       "      <td>Resale</td>\n",
       "      <td>Apartment</td>\n",
       "      <td>6667.0</td>\n",
       "    </tr>\n",
       "    <tr>\n",
       "      <td>3</td>\n",
       "      <td>600.0</td>\n",
       "      <td>2</td>\n",
       "      <td>2.0</td>\n",
       "      <td>Semi-Furnished</td>\n",
       "      <td>Rohini Sector 24</td>\n",
       "      <td>1.0</td>\n",
       "      <td>4200000</td>\n",
       "      <td>Ready_to_move</td>\n",
       "      <td>Resale</td>\n",
       "      <td>Builder_Floor</td>\n",
       "      <td>6667.0</td>\n",
       "    </tr>\n",
       "    <tr>\n",
       "      <td>4</td>\n",
       "      <td>650.0</td>\n",
       "      <td>2</td>\n",
       "      <td>2.0</td>\n",
       "      <td>Semi-Furnished</td>\n",
       "      <td>Rohini Sector 24 carpet area 650 sqft status R...</td>\n",
       "      <td>1.0</td>\n",
       "      <td>6200000</td>\n",
       "      <td>Ready_to_move</td>\n",
       "      <td>New_Property</td>\n",
       "      <td>Builder_Floor</td>\n",
       "      <td>6667.0</td>\n",
       "    </tr>\n",
       "  </tbody>\n",
       "</table>\n",
       "</div>"
      ],
      "text/plain": [
       "    Area  BHK  Bathroom      Furnishing  \\\n",
       "0  800.0    3       2.0  Semi-Furnished   \n",
       "1  750.0    2       2.0  Semi-Furnished   \n",
       "2  950.0    2       2.0       Furnished   \n",
       "3  600.0    2       2.0  Semi-Furnished   \n",
       "4  650.0    2       2.0  Semi-Furnished   \n",
       "\n",
       "                                            Locality  Parking     Price  \\\n",
       "0                                   Rohini Sector 25      1.0   6500000   \n",
       "1             J R Designers Floors, Rohini Sector 24      1.0   5000000   \n",
       "2                Citizen Apartment, Rohini Sector 13      1.0  15500000   \n",
       "3                                   Rohini Sector 24      1.0   4200000   \n",
       "4  Rohini Sector 24 carpet area 650 sqft status R...      1.0   6200000   \n",
       "\n",
       "          Status   Transaction           Type  Per_Sqft  \n",
       "0  Ready_to_move  New_Property  Builder_Floor       NaN  \n",
       "1  Ready_to_move  New_Property      Apartment    6667.0  \n",
       "2  Ready_to_move        Resale      Apartment    6667.0  \n",
       "3  Ready_to_move        Resale  Builder_Floor    6667.0  \n",
       "4  Ready_to_move  New_Property  Builder_Floor    6667.0  "
      ]
     },
     "execution_count": 144,
     "metadata": {},
     "output_type": "execute_result"
    }
   ],
   "source": [
    "House_data.head()"
   ]
  },
  {
   "cell_type": "code",
   "execution_count": 145,
   "metadata": {},
   "outputs": [
    {
     "data": {
      "text/plain": [
       "(1259, 11)"
      ]
     },
     "execution_count": 145,
     "metadata": {},
     "output_type": "execute_result"
    }
   ],
   "source": [
    "House_data.shape"
   ]
  },
  {
   "cell_type": "code",
   "execution_count": 146,
   "metadata": {},
   "outputs": [
    {
     "name": "stdout",
     "output_type": "stream",
     "text": [
      "<class 'pandas.core.frame.DataFrame'>\n",
      "RangeIndex: 1259 entries, 0 to 1258\n",
      "Data columns (total 11 columns):\n",
      "Area           1259 non-null float64\n",
      "BHK            1259 non-null int64\n",
      "Bathroom       1257 non-null float64\n",
      "Furnishing     1254 non-null object\n",
      "Locality       1259 non-null object\n",
      "Parking        1226 non-null float64\n",
      "Price          1259 non-null int64\n",
      "Status         1259 non-null object\n",
      "Transaction    1259 non-null object\n",
      "Type           1254 non-null object\n",
      "Per_Sqft       1018 non-null float64\n",
      "dtypes: float64(4), int64(2), object(5)\n",
      "memory usage: 108.3+ KB\n"
     ]
    }
   ],
   "source": [
    "House_data.info()"
   ]
  },
  {
   "cell_type": "code",
   "execution_count": 152,
   "metadata": {},
   "outputs": [
    {
     "data": {
      "text/html": [
       "<div>\n",
       "<style scoped>\n",
       "    .dataframe tbody tr th:only-of-type {\n",
       "        vertical-align: middle;\n",
       "    }\n",
       "\n",
       "    .dataframe tbody tr th {\n",
       "        vertical-align: top;\n",
       "    }\n",
       "\n",
       "    .dataframe thead th {\n",
       "        text-align: right;\n",
       "    }\n",
       "</style>\n",
       "<table border=\"1\" class=\"dataframe\">\n",
       "  <thead>\n",
       "    <tr style=\"text-align: right;\">\n",
       "      <th></th>\n",
       "      <th>Area</th>\n",
       "      <th>BHK</th>\n",
       "      <th>Bathroom</th>\n",
       "      <th>Parking</th>\n",
       "      <th>Price</th>\n",
       "      <th>Per_Sqft</th>\n",
       "    </tr>\n",
       "  </thead>\n",
       "  <tbody>\n",
       "    <tr>\n",
       "      <td>count</td>\n",
       "      <td>1259.000000</td>\n",
       "      <td>1259.000000</td>\n",
       "      <td>1257.000000</td>\n",
       "      <td>1226.000000</td>\n",
       "      <td>1.259000e+03</td>\n",
       "      <td>1018.000000</td>\n",
       "    </tr>\n",
       "    <tr>\n",
       "      <td>mean</td>\n",
       "      <td>1466.452724</td>\n",
       "      <td>2.796664</td>\n",
       "      <td>2.556086</td>\n",
       "      <td>1.935563</td>\n",
       "      <td>2.130670e+07</td>\n",
       "      <td>15690.136542</td>\n",
       "    </tr>\n",
       "    <tr>\n",
       "      <td>std</td>\n",
       "      <td>1568.055040</td>\n",
       "      <td>0.954425</td>\n",
       "      <td>1.042220</td>\n",
       "      <td>6.279212</td>\n",
       "      <td>2.560115e+07</td>\n",
       "      <td>21134.738568</td>\n",
       "    </tr>\n",
       "    <tr>\n",
       "      <td>min</td>\n",
       "      <td>28.000000</td>\n",
       "      <td>1.000000</td>\n",
       "      <td>1.000000</td>\n",
       "      <td>1.000000</td>\n",
       "      <td>1.000000e+06</td>\n",
       "      <td>1259.000000</td>\n",
       "    </tr>\n",
       "    <tr>\n",
       "      <td>25%</td>\n",
       "      <td>800.000000</td>\n",
       "      <td>2.000000</td>\n",
       "      <td>2.000000</td>\n",
       "      <td>1.000000</td>\n",
       "      <td>5.700000e+06</td>\n",
       "      <td>6364.000000</td>\n",
       "    </tr>\n",
       "    <tr>\n",
       "      <td>50%</td>\n",
       "      <td>1200.000000</td>\n",
       "      <td>3.000000</td>\n",
       "      <td>2.000000</td>\n",
       "      <td>1.000000</td>\n",
       "      <td>1.420000e+07</td>\n",
       "      <td>11291.500000</td>\n",
       "    </tr>\n",
       "    <tr>\n",
       "      <td>75%</td>\n",
       "      <td>1700.000000</td>\n",
       "      <td>3.000000</td>\n",
       "      <td>3.000000</td>\n",
       "      <td>2.000000</td>\n",
       "      <td>2.550000e+07</td>\n",
       "      <td>18000.000000</td>\n",
       "    </tr>\n",
       "    <tr>\n",
       "      <td>max</td>\n",
       "      <td>24300.000000</td>\n",
       "      <td>10.000000</td>\n",
       "      <td>7.000000</td>\n",
       "      <td>114.000000</td>\n",
       "      <td>2.400000e+08</td>\n",
       "      <td>183333.000000</td>\n",
       "    </tr>\n",
       "  </tbody>\n",
       "</table>\n",
       "</div>"
      ],
      "text/plain": [
       "               Area          BHK     Bathroom      Parking         Price  \\\n",
       "count   1259.000000  1259.000000  1257.000000  1226.000000  1.259000e+03   \n",
       "mean    1466.452724     2.796664     2.556086     1.935563  2.130670e+07   \n",
       "std     1568.055040     0.954425     1.042220     6.279212  2.560115e+07   \n",
       "min       28.000000     1.000000     1.000000     1.000000  1.000000e+06   \n",
       "25%      800.000000     2.000000     2.000000     1.000000  5.700000e+06   \n",
       "50%     1200.000000     3.000000     2.000000     1.000000  1.420000e+07   \n",
       "75%     1700.000000     3.000000     3.000000     2.000000  2.550000e+07   \n",
       "max    24300.000000    10.000000     7.000000   114.000000  2.400000e+08   \n",
       "\n",
       "            Per_Sqft  \n",
       "count    1018.000000  \n",
       "mean    15690.136542  \n",
       "std     21134.738568  \n",
       "min      1259.000000  \n",
       "25%      6364.000000  \n",
       "50%     11291.500000  \n",
       "75%     18000.000000  \n",
       "max    183333.000000  "
      ]
     },
     "execution_count": 152,
     "metadata": {},
     "output_type": "execute_result"
    }
   ],
   "source": [
    "House_data.describe()"
   ]
  },
  {
   "cell_type": "code",
   "execution_count": 170,
   "metadata": {},
   "outputs": [
    {
     "data": {
      "text/plain": [
       "Area             0\n",
       "BHK              0\n",
       "Bathroom         0\n",
       "Furnishing       5\n",
       "Locality         0\n",
       "Parking          0\n",
       "Price            0\n",
       "Status           0\n",
       "Transaction      0\n",
       "Type             5\n",
       "Per_Sqft       241\n",
       "dtype: int64"
      ]
     },
     "execution_count": 170,
     "metadata": {},
     "output_type": "execute_result"
    }
   ],
   "source": [
    "House_data.isnull().sum()"
   ]
  },
  {
   "cell_type": "markdown",
   "metadata": {},
   "source": [
    "#Univariate Analysis"
   ]
  },
  {
   "cell_type": "code",
   "execution_count": 199,
   "metadata": {},
   "outputs": [
    {
     "data": {
      "text/plain": [
       "<matplotlib.axes._subplots.AxesSubplot at 0x1a2d025850>"
      ]
     },
     "execution_count": 199,
     "metadata": {},
     "output_type": "execute_result"
    },
    {
     "data": {
      "image/png": "[encoded data removed]",
      "text/plain": [
       "<Figure size 432x288 with 2 Axes>"
      ]
     },
     "metadata": {
      "needs_background": "light"
     },
     "output_type": "display_data"
    }
   ],
   "source": [
    "plt.figure(1)\n",
    "plt.subplot(1,2,1)\n",
    "sns.distplot(House_data['Area'])\n",
    "plt.subplot(1,2,2)\n",
    "sns.boxplot(House_data['Area'], orient=\"v\")"
   ]
  },
  {
   "cell_type": "code",
   "execution_count": 206,
   "metadata": {},
   "outputs": [
    {
     "data": {
      "text/plain": [
       "<matplotlib.axes._subplots.AxesSubplot at 0x1a2d3bef90>"
      ]
     },
     "execution_count": 206,
     "metadata": {},
     "output_type": "execute_result"
    },
    {
     "data": {
      "image/png": "[encoded data removed]",
      "text/plain": [
       "<Figure size 432x288 with 2 Axes>"
      ]
     },
     "metadata": {
      "needs_background": "light"
     },
     "output_type": "display_data"
    }
   ],
   "source": [
    "plt.figure(1)\n",
    "plt.subplot(1,2,1)\n",
    "sns.distplot(House_data['Per_Sqft'])\n",
    "plt.subplot(1,2,2)\n",
    "sns.boxplot(House_data['Per_Sqft'], orient=\"v\")"
   ]
  },
  {
   "cell_type": "code",
   "execution_count": 203,
   "metadata": {},
   "outputs": [
    {
     "data": {
      "text/plain": [
       "<matplotlib.axes._subplots.AxesSubplot at 0x1a2d115410>"
      ]
     },
     "execution_count": 203,
     "metadata": {},
     "output_type": "execute_result"
    },
    {
     "data": {
      "image/png": "[encoded data removed]",
      "text/plain": [
       "<Figure size 432x288 with 2 Axes>"
      ]
     },
     "metadata": {
      "needs_background": "light"
     },
     "output_type": "display_data"
    }
   ],
   "source": [
    "plt.figure(1)\n",
    "plt.subplot(1,2,1)\n",
    "sns.distplot(House_data['Price'])\n",
    "plt.subplot(1,2,2)\n",
    "sns.boxplot(House_data['Price'], orient=\"v\")"
   ]
  },
  {
   "cell_type": "code",
   "execution_count": 99,
   "metadata": {},
   "outputs": [
    {
     "data": {
      "text/plain": [
       "<matplotlib.axes._subplots.AxesSubplot at 0x1a2688de90>"
      ]
     },
     "execution_count": 99,
     "metadata": {},
     "output_type": "execute_result"
    },
    {
     "data": {
      "image/png": "[encoded data removed]",
      "text/plain": [
       "<Figure size 1728x432 with 2 Axes>"
      ]
     },
     "metadata": {
      "needs_background": "light"
     },
     "output_type": "display_data"
    }
   ],
   "source": [
    "#House_data['BHK']=House_data['BHK'].value_counts()\n",
    "#sns.barplot(House_data['BHK'].value_counts(normalize=True), orient=\"v\")\n",
    "plt.figure(1)\n",
    "plt.subplot(1,3,1)\n",
    "House_data['BHK'].value_counts(normalize=True).plot.bar(figsize=(24,6))\n",
    "plt.subplot(1, 3, 2)\n",
    "House_data['Parking'].value_counts(normalize=True).plot.bar()"
   ]
  },
  {
   "cell_type": "code",
   "execution_count": 100,
   "metadata": {},
   "outputs": [
    {
     "data": {
      "text/plain": [
       "<matplotlib.axes._subplots.AxesSubplot at 0x1a26b9c990>"
      ]
     },
     "execution_count": 100,
     "metadata": {},
     "output_type": "execute_result"
    },
    {
     "data": {
      "image/png": "[encoded data removed]",
      "text/plain": [
       "<Figure size 1728x432 with 2 Axes>"
      ]
     },
     "metadata": {
      "needs_background": "light"
     },
     "output_type": "display_data"
    }
   ],
   "source": [
    "plt.figure(1)\n",
    "plt.subplot(1,3,1)\n",
    "House_data['Type'].value_counts(normalize=True).plot.bar(figsize=(24,6))\n",
    "plt.subplot(1, 3, 2)\n",
    "House_data['Bathroom'].value_counts(normalize=True).plot.bar()"
   ]
  },
  {
   "cell_type": "code",
   "execution_count": 102,
   "metadata": {},
   "outputs": [
    {
     "data": {
      "text/plain": [
       "<matplotlib.axes._subplots.AxesSubplot at 0x1a27440750>"
      ]
     },
     "execution_count": 102,
     "metadata": {},
     "output_type": "execute_result"
    },
    {
     "data": {
      "image/png": "[encoded data removed]",
      "text/plain": [
       "<Figure size 1728x432 with 2 Axes>"
      ]
     },
     "metadata": {
      "needs_background": "light"
     },
     "output_type": "display_data"
    }
   ],
   "source": [
    "plt.figure(1)\n",
    "plt.subplot(1,3,1)\n",
    "House_data['Furnishing'].value_counts(normalize=True).plot.bar(figsize=(24,6))\n",
    "plt.subplot(1, 3, 2)\n",
    "House_data['Transaction'].value_counts(normalize=True).plot.bar()"
   ]
  },
  {
   "cell_type": "code",
   "execution_count": 103,
   "metadata": {},
   "outputs": [
    {
     "data": {
      "text/plain": [
       "<matplotlib.axes._subplots.AxesSubplot at 0x1a2a491850>"
      ]
     },
     "execution_count": 103,
     "metadata": {},
     "output_type": "execute_result"
    },
    {
     "data": {
      "image/png": "[encoded data removed]",
      "text/plain": [
       "<Figure size 1728x432 with 1 Axes>"
      ]
     },
     "metadata": {
      "needs_background": "light"
     },
     "output_type": "display_data"
    }
   ],
   "source": [
    "plt.figure(1)\n",
    "plt.subplot(1,3,1)\n",
    "House_data['Status'].value_counts(normalize=True).plot.bar(figsize=(24,6))\n",
    "#plt.subplot(1, 3, 2)\n",
    "#House_data['Parking'].value_counts(normalize=True).plot.bar()"
   ]
  },
  {
   "cell_type": "code",
   "execution_count": 168,
   "metadata": {},
   "outputs": [
    {
     "data": {
      "text/html": [
       "<div>\n",
       "<style scoped>\n",
       "    .dataframe tbody tr th:only-of-type {\n",
       "        vertical-align: middle;\n",
       "    }\n",
       "\n",
       "    .dataframe tbody tr th {\n",
       "        vertical-align: top;\n",
       "    }\n",
       "\n",
       "    .dataframe thead th {\n",
       "        text-align: right;\n",
       "    }\n",
       "</style>\n",
       "<table border=\"1\" class=\"dataframe\">\n",
       "  <thead>\n",
       "    <tr style=\"text-align: right;\">\n",
       "      <th></th>\n",
       "      <th>Area</th>\n",
       "      <th>BHK</th>\n",
       "      <th>Bathroom</th>\n",
       "      <th>Furnishing</th>\n",
       "      <th>Locality</th>\n",
       "      <th>Parking</th>\n",
       "      <th>Price</th>\n",
       "      <th>Status</th>\n",
       "      <th>Transaction</th>\n",
       "      <th>Type</th>\n",
       "      <th>Per_Sqft</th>\n",
       "    </tr>\n",
       "  </thead>\n",
       "  <tbody>\n",
       "    <tr>\n",
       "      <td>509</td>\n",
       "      <td>450.0</td>\n",
       "      <td>2</td>\n",
       "      <td>2.0</td>\n",
       "      <td>NaN</td>\n",
       "      <td>Gandhi Nagar, Shahdara</td>\n",
       "      <td>1.0</td>\n",
       "      <td>2900000</td>\n",
       "      <td>Ready_to_move</td>\n",
       "      <td>Resale</td>\n",
       "      <td>NaN</td>\n",
       "      <td>58000.0</td>\n",
       "    </tr>\n",
       "    <tr>\n",
       "      <td>510</td>\n",
       "      <td>540.0</td>\n",
       "      <td>5</td>\n",
       "      <td>2.0</td>\n",
       "      <td>NaN</td>\n",
       "      <td>Gandhi Nagar, Shahdara</td>\n",
       "      <td>1.0</td>\n",
       "      <td>17000000</td>\n",
       "      <td>Ready_to_move</td>\n",
       "      <td>Resale</td>\n",
       "      <td>NaN</td>\n",
       "      <td>58000.0</td>\n",
       "    </tr>\n",
       "    <tr>\n",
       "      <td>511</td>\n",
       "      <td>1350.0</td>\n",
       "      <td>3</td>\n",
       "      <td>3.0</td>\n",
       "      <td>NaN</td>\n",
       "      <td>Gandhi Nagar, Shahdara</td>\n",
       "      <td>1.0</td>\n",
       "      <td>25000000</td>\n",
       "      <td>Ready_to_move</td>\n",
       "      <td>Resale</td>\n",
       "      <td>NaN</td>\n",
       "      <td>18519.0</td>\n",
       "    </tr>\n",
       "    <tr>\n",
       "      <td>512</td>\n",
       "      <td>2250.0</td>\n",
       "      <td>3</td>\n",
       "      <td>2.0</td>\n",
       "      <td>NaN</td>\n",
       "      <td>Gandhi Nagar, Shahdara</td>\n",
       "      <td>1.0</td>\n",
       "      <td>10000000</td>\n",
       "      <td>Ready_to_move</td>\n",
       "      <td>Resale</td>\n",
       "      <td>NaN</td>\n",
       "      <td>4444.0</td>\n",
       "    </tr>\n",
       "    <tr>\n",
       "      <td>719</td>\n",
       "      <td>1500.0</td>\n",
       "      <td>3</td>\n",
       "      <td>2.0</td>\n",
       "      <td>NaN</td>\n",
       "      <td>Sarita Vihar, Mathura Road carpet area 1500 sq...</td>\n",
       "      <td>1.0</td>\n",
       "      <td>13500000</td>\n",
       "      <td>Ready_to_move</td>\n",
       "      <td>Resale</td>\n",
       "      <td>NaN</td>\n",
       "      <td>NaN</td>\n",
       "    </tr>\n",
       "  </tbody>\n",
       "</table>\n",
       "</div>"
      ],
      "text/plain": [
       "       Area  BHK  Bathroom Furnishing  \\\n",
       "509   450.0    2       2.0        NaN   \n",
       "510   540.0    5       2.0        NaN   \n",
       "511  1350.0    3       3.0        NaN   \n",
       "512  2250.0    3       2.0        NaN   \n",
       "719  1500.0    3       2.0        NaN   \n",
       "\n",
       "                                              Locality  Parking     Price  \\\n",
       "509                             Gandhi Nagar, Shahdara      1.0   2900000   \n",
       "510                             Gandhi Nagar, Shahdara      1.0  17000000   \n",
       "511                             Gandhi Nagar, Shahdara      1.0  25000000   \n",
       "512                             Gandhi Nagar, Shahdara      1.0  10000000   \n",
       "719  Sarita Vihar, Mathura Road carpet area 1500 sq...      1.0  13500000   \n",
       "\n",
       "            Status Transaction Type  Per_Sqft  \n",
       "509  Ready_to_move      Resale  NaN   58000.0  \n",
       "510  Ready_to_move      Resale  NaN   58000.0  \n",
       "511  Ready_to_move      Resale  NaN   18519.0  \n",
       "512  Ready_to_move      Resale  NaN    4444.0  \n",
       "719  Ready_to_move      Resale  NaN       NaN  "
      ]
     },
     "execution_count": 168,
     "metadata": {},
     "output_type": "execute_result"
    }
   ],
   "source": [
    "House_data[House_data['Furnishing'].isnull()]"
   ]
  },
  {
   "cell_type": "code",
   "execution_count": 169,
   "metadata": {},
   "outputs": [
    {
     "data": {
      "text/html": [
       "<div>\n",
       "<style scoped>\n",
       "    .dataframe tbody tr th:only-of-type {\n",
       "        vertical-align: middle;\n",
       "    }\n",
       "\n",
       "    .dataframe tbody tr th {\n",
       "        vertical-align: top;\n",
       "    }\n",
       "\n",
       "    .dataframe thead th {\n",
       "        text-align: right;\n",
       "    }\n",
       "</style>\n",
       "<table border=\"1\" class=\"dataframe\">\n",
       "  <thead>\n",
       "    <tr style=\"text-align: right;\">\n",
       "      <th></th>\n",
       "      <th>Area</th>\n",
       "      <th>BHK</th>\n",
       "      <th>Bathroom</th>\n",
       "      <th>Furnishing</th>\n",
       "      <th>Locality</th>\n",
       "      <th>Parking</th>\n",
       "      <th>Price</th>\n",
       "      <th>Status</th>\n",
       "      <th>Transaction</th>\n",
       "      <th>Type</th>\n",
       "      <th>Per_Sqft</th>\n",
       "    </tr>\n",
       "  </thead>\n",
       "  <tbody>\n",
       "    <tr>\n",
       "      <td>509</td>\n",
       "      <td>450.0</td>\n",
       "      <td>2</td>\n",
       "      <td>2.0</td>\n",
       "      <td>NaN</td>\n",
       "      <td>Gandhi Nagar, Shahdara</td>\n",
       "      <td>1.0</td>\n",
       "      <td>2900000</td>\n",
       "      <td>Ready_to_move</td>\n",
       "      <td>Resale</td>\n",
       "      <td>NaN</td>\n",
       "      <td>58000.0</td>\n",
       "    </tr>\n",
       "    <tr>\n",
       "      <td>510</td>\n",
       "      <td>540.0</td>\n",
       "      <td>5</td>\n",
       "      <td>2.0</td>\n",
       "      <td>NaN</td>\n",
       "      <td>Gandhi Nagar, Shahdara</td>\n",
       "      <td>1.0</td>\n",
       "      <td>17000000</td>\n",
       "      <td>Ready_to_move</td>\n",
       "      <td>Resale</td>\n",
       "      <td>NaN</td>\n",
       "      <td>58000.0</td>\n",
       "    </tr>\n",
       "    <tr>\n",
       "      <td>511</td>\n",
       "      <td>1350.0</td>\n",
       "      <td>3</td>\n",
       "      <td>3.0</td>\n",
       "      <td>NaN</td>\n",
       "      <td>Gandhi Nagar, Shahdara</td>\n",
       "      <td>1.0</td>\n",
       "      <td>25000000</td>\n",
       "      <td>Ready_to_move</td>\n",
       "      <td>Resale</td>\n",
       "      <td>NaN</td>\n",
       "      <td>18519.0</td>\n",
       "    </tr>\n",
       "    <tr>\n",
       "      <td>512</td>\n",
       "      <td>2250.0</td>\n",
       "      <td>3</td>\n",
       "      <td>2.0</td>\n",
       "      <td>NaN</td>\n",
       "      <td>Gandhi Nagar, Shahdara</td>\n",
       "      <td>1.0</td>\n",
       "      <td>10000000</td>\n",
       "      <td>Ready_to_move</td>\n",
       "      <td>Resale</td>\n",
       "      <td>NaN</td>\n",
       "      <td>4444.0</td>\n",
       "    </tr>\n",
       "    <tr>\n",
       "      <td>719</td>\n",
       "      <td>1500.0</td>\n",
       "      <td>3</td>\n",
       "      <td>2.0</td>\n",
       "      <td>NaN</td>\n",
       "      <td>Sarita Vihar, Mathura Road carpet area 1500 sq...</td>\n",
       "      <td>1.0</td>\n",
       "      <td>13500000</td>\n",
       "      <td>Ready_to_move</td>\n",
       "      <td>Resale</td>\n",
       "      <td>NaN</td>\n",
       "      <td>NaN</td>\n",
       "    </tr>\n",
       "  </tbody>\n",
       "</table>\n",
       "</div>"
      ],
      "text/plain": [
       "       Area  BHK  Bathroom Furnishing  \\\n",
       "509   450.0    2       2.0        NaN   \n",
       "510   540.0    5       2.0        NaN   \n",
       "511  1350.0    3       3.0        NaN   \n",
       "512  2250.0    3       2.0        NaN   \n",
       "719  1500.0    3       2.0        NaN   \n",
       "\n",
       "                                              Locality  Parking     Price  \\\n",
       "509                             Gandhi Nagar, Shahdara      1.0   2900000   \n",
       "510                             Gandhi Nagar, Shahdara      1.0  17000000   \n",
       "511                             Gandhi Nagar, Shahdara      1.0  25000000   \n",
       "512                             Gandhi Nagar, Shahdara      1.0  10000000   \n",
       "719  Sarita Vihar, Mathura Road carpet area 1500 sq...      1.0  13500000   \n",
       "\n",
       "            Status Transaction Type  Per_Sqft  \n",
       "509  Ready_to_move      Resale  NaN   58000.0  \n",
       "510  Ready_to_move      Resale  NaN   58000.0  \n",
       "511  Ready_to_move      Resale  NaN   18519.0  \n",
       "512  Ready_to_move      Resale  NaN    4444.0  \n",
       "719  Ready_to_move      Resale  NaN       NaN  "
      ]
     },
     "execution_count": 169,
     "metadata": {},
     "output_type": "execute_result"
    }
   ],
   "source": [
    "House_data[House_data['Type'].isnull()]"
   ]
  },
  {
   "cell_type": "markdown",
   "metadata": {},
   "source": [
    "#Missing Value treatment"
   ]
  },
  {
   "cell_type": "code",
   "execution_count": 204,
   "metadata": {},
   "outputs": [],
   "source": [
    "House_data['Per_Sqft'] = House_data['Per_Sqft'].fillna(value=House_data['Per_Sqft'].median())"
   ]
  },
  {
   "cell_type": "code",
   "execution_count": 167,
   "metadata": {},
   "outputs": [],
   "source": [
    "House_data['Parking'] = House_data['Parking'].fillna(1)"
   ]
  },
  {
   "cell_type": "code",
   "execution_count": 158,
   "metadata": {},
   "outputs": [],
   "source": [
    "House_data['Bathroom'] = House_data['Bathroom'].fillna(value=1)"
   ]
  },
  {
   "cell_type": "code",
   "execution_count": 121,
   "metadata": {},
   "outputs": [],
   "source": [
    "House_data['Furnishing'] = House_data['Furnishing'].fillna(value=House_data['Furnishing'].mode()[0])"
   ]
  },
  {
   "cell_type": "code",
   "execution_count": 122,
   "metadata": {},
   "outputs": [],
   "source": [
    "House_data['Type'] = House_data['Type'].fillna(value=House_data['Type'].mode()[0])"
   ]
  },
  {
   "cell_type": "markdown",
   "metadata": {},
   "source": [
    "#Bivariate Analysis"
   ]
  },
  {
   "cell_type": "code",
   "execution_count": 209,
   "metadata": {},
   "outputs": [
    {
     "data": {
      "text/plain": [
       "<matplotlib.axes._subplots.AxesSubplot at 0x1a2d7dc350>"
      ]
     },
     "execution_count": 209,
     "metadata": {},
     "output_type": "execute_result"
    },
    {
     "data": {
      "image/png": "[encoded data removed]",
      "text/plain": [
       "<Figure size 432x288 with 1 Axes>"
      ]
     },
     "metadata": {
      "needs_background": "light"
     },
     "output_type": "display_data"
    }
   ],
   "source": [
    "sns.scatterplot(x='Area', y='Price', data=House_data)"
   ]
  },
  {
   "cell_type": "code",
   "execution_count": 208,
   "metadata": {},
   "outputs": [
    {
     "data": {
      "text/plain": [
       "<matplotlib.axes._subplots.AxesSubplot at 0x1a2d700390>"
      ]
     },
     "execution_count": 208,
     "metadata": {},
     "output_type": "execute_result"
    },
    {
     "data": {
      "image/png": "[encoded data removed]",
      "text/plain": [
       "<Figure size 432x288 with 1 Axes>"
      ]
     },
     "metadata": {
      "needs_background": "light"
     },
     "output_type": "display_data"
    }
   ],
   "source": [
    "sns.scatterplot(x='Per_Sqft', y='Price', data=House_data)"
   ]
  },
  {
   "cell_type": "code",
   "execution_count": 207,
   "metadata": {},
   "outputs": [
    {
     "data": {
      "text/plain": [
       "<matplotlib.axes._subplots.AxesSubplot at 0x1a2d6371d0>"
      ]
     },
     "execution_count": 207,
     "metadata": {},
     "output_type": "execute_result"
    },
    {
     "data": {
      "image/png": "[encoded data removed]",
      "text/plain": [
       "<Figure size 432x288 with 1 Axes>"
      ]
     },
     "metadata": {
      "needs_background": "light"
     },
     "output_type": "display_data"
    }
   ],
   "source": [
    "sns.scatterplot(x='Area', y='Per_Sqft', data=House_data)"
   ]
  },
  {
   "cell_type": "code",
   "execution_count": 196,
   "metadata": {},
   "outputs": [
    {
     "data": {
      "text/plain": [
       "<matplotlib.axes._subplots.AxesSubplot at 0x1a2cfd2610>"
      ]
     },
     "execution_count": 196,
     "metadata": {},
     "output_type": "execute_result"
    },
    {
     "data": {
      "image/png": "[encoded data removed]",
      "text/plain": [
       "<Figure size 432x288 with 1 Axes>"
      ]
     },
     "metadata": {
      "needs_background": "light"
     },
     "output_type": "display_data"
    }
   ],
   "source": [
    "House_data.groupby('Parking')['Price'].median().plot.bar()"
   ]
  },
  {
   "cell_type": "code",
   "execution_count": 195,
   "metadata": {},
   "outputs": [
    {
     "data": {
      "text/plain": [
       "<matplotlib.axes._subplots.AxesSubplot at 0x1a2cefb490>"
      ]
     },
     "execution_count": 195,
     "metadata": {},
     "output_type": "execute_result"
    },
    {
     "data": {
      "image/png": "[encoded data removed]",
      "text/plain": [
       "<Figure size 432x288 with 1 Axes>"
      ]
     },
     "metadata": {
      "needs_background": "light"
     },
     "output_type": "display_data"
    }
   ],
   "source": [
    "House_data.groupby('BHK')['Price'].median().plot.bar()"
   ]
  },
  {
   "cell_type": "code",
   "execution_count": 194,
   "metadata": {},
   "outputs": [
    {
     "data": {
      "text/plain": [
       "<matplotlib.axes._subplots.AxesSubplot at 0x1a2cd8f090>"
      ]
     },
     "execution_count": 194,
     "metadata": {},
     "output_type": "execute_result"
    },
    {
     "data": {
      "image/png": "[encoded data removed]",
      "text/plain": [
       "<Figure size 432x288 with 1 Axes>"
      ]
     },
     "metadata": {
      "needs_background": "light"
     },
     "output_type": "display_data"
    }
   ],
   "source": [
    "House_data.groupby('Bathroom')['Price'].median().plot.bar()"
   ]
  },
  {
   "cell_type": "code",
   "execution_count": 131,
   "metadata": {},
   "outputs": [
    {
     "data": {
      "text/plain": [
       "<matplotlib.axes._subplots.AxesSubplot at 0x1a2af94d10>"
      ]
     },
     "execution_count": 131,
     "metadata": {},
     "output_type": "execute_result"
    },
    {
     "data": {
      "image/png": "[encoded data removed]",
      "text/plain": [
       "<Figure size 432x288 with 1 Axes>"
      ]
     },
     "metadata": {
      "needs_background": "light"
     },
     "output_type": "display_data"
    }
   ],
   "source": [
    "House_data.groupby('Status')['Price'].median().plot.bar()"
   ]
  },
  {
   "cell_type": "code",
   "execution_count": 132,
   "metadata": {},
   "outputs": [
    {
     "data": {
      "text/plain": [
       "<matplotlib.axes._subplots.AxesSubplot at 0x1a2ac1d690>"
      ]
     },
     "execution_count": 132,
     "metadata": {},
     "output_type": "execute_result"
    },
    {
     "data": {
      "image/png": "[encoded data removed]",
      "text/plain": [
       "<Figure size 432x288 with 1 Axes>"
      ]
     },
     "metadata": {
      "needs_background": "light"
     },
     "output_type": "display_data"
    }
   ],
   "source": [
    "House_data.groupby('Transaction')['Price'].median().plot.bar()"
   ]
  },
  {
   "cell_type": "code",
   "execution_count": 133,
   "metadata": {},
   "outputs": [
    {
     "data": {
      "text/plain": [
       "<matplotlib.axes._subplots.AxesSubplot at 0x1a2af8ca50>"
      ]
     },
     "execution_count": 133,
     "metadata": {},
     "output_type": "execute_result"
    },
    {
     "data": {
      "image/png": "[encoded data removed]",
      "text/plain": [
       "<Figure size 432x288 with 1 Axes>"
      ]
     },
     "metadata": {
      "needs_background": "light"
     },
     "output_type": "display_data"
    }
   ],
   "source": [
    "House_data.groupby('Type')['Price'].median().plot.bar()"
   ]
  },
  {
   "cell_type": "code",
   "execution_count": 135,
   "metadata": {},
   "outputs": [
    {
     "data": {
      "text/plain": [
       "<matplotlib.axes._subplots.AxesSubplot at 0x1a2b222410>"
      ]
     },
     "execution_count": 135,
     "metadata": {},
     "output_type": "execute_result"
    },
    {
     "data": {
      "image/png": "[encoded data removed]",
      "text/plain": [
       "<Figure size 288x288 with 1 Axes>"
      ]
     },
     "metadata": {
      "needs_background": "light"
     },
     "output_type": "display_data"
    }
   ],
   "source": [
    "Type=pd.crosstab(House_data['Type'],House_data['BHK']) \n",
    "Type.div(Type.sum(1).astype(float), axis=0).plot(kind=\"bar\", stacked=True, figsize=(4,4))"
   ]
  },
  {
   "cell_type": "code",
   "execution_count": 193,
   "metadata": {},
   "outputs": [
    {
     "data": {
      "text/plain": [
       "<matplotlib.axes._subplots.AxesSubplot at 0x1a2cd1b450>"
      ]
     },
     "execution_count": 193,
     "metadata": {},
     "output_type": "execute_result"
    },
    {
     "data": {
      "image/png": "[encoded data removed]",
      "text/plain": [
       "<Figure size 432x288 with 2 Axes>"
      ]
     },
     "metadata": {
      "needs_background": "light"
     },
     "output_type": "display_data"
    }
   ],
   "source": [
    "plt.subplot(1,1,1)\n",
    "sns.heatmap(House_data.corr(), annot=True)"
   ]
  },
  {
   "cell_type": "code",
   "execution_count": 210,
   "metadata": {},
   "outputs": [
    {
     "data": {
      "text/html": [
       "<div>\n",
       "<style scoped>\n",
       "    .dataframe tbody tr th:only-of-type {\n",
       "        vertical-align: middle;\n",
       "    }\n",
       "\n",
       "    .dataframe tbody tr th {\n",
       "        vertical-align: top;\n",
       "    }\n",
       "\n",
       "    .dataframe thead th {\n",
       "        text-align: right;\n",
       "    }\n",
       "</style>\n",
       "<table border=\"1\" class=\"dataframe\">\n",
       "  <thead>\n",
       "    <tr style=\"text-align: right;\">\n",
       "      <th></th>\n",
       "      <th>Area</th>\n",
       "      <th>BHK</th>\n",
       "      <th>Bathroom</th>\n",
       "      <th>Parking</th>\n",
       "      <th>Price</th>\n",
       "      <th>Per_Sqft</th>\n",
       "    </tr>\n",
       "  </thead>\n",
       "  <tbody>\n",
       "    <tr>\n",
       "      <td>Area</td>\n",
       "      <td>1.000000</td>\n",
       "      <td>0.642625</td>\n",
       "      <td>0.699758</td>\n",
       "      <td>0.321350</td>\n",
       "      <td>0.760950</td>\n",
       "      <td>0.273103</td>\n",
       "    </tr>\n",
       "    <tr>\n",
       "      <td>BHK</td>\n",
       "      <td>0.642625</td>\n",
       "      <td>1.000000</td>\n",
       "      <td>0.774184</td>\n",
       "      <td>0.266754</td>\n",
       "      <td>0.685286</td>\n",
       "      <td>0.256667</td>\n",
       "    </tr>\n",
       "    <tr>\n",
       "      <td>Bathroom</td>\n",
       "      <td>0.699758</td>\n",
       "      <td>0.774184</td>\n",
       "      <td>1.000000</td>\n",
       "      <td>0.379380</td>\n",
       "      <td>0.783055</td>\n",
       "      <td>0.323248</td>\n",
       "    </tr>\n",
       "    <tr>\n",
       "      <td>Parking</td>\n",
       "      <td>0.321350</td>\n",
       "      <td>0.266754</td>\n",
       "      <td>0.379380</td>\n",
       "      <td>1.000000</td>\n",
       "      <td>0.375064</td>\n",
       "      <td>0.251432</td>\n",
       "    </tr>\n",
       "    <tr>\n",
       "      <td>Price</td>\n",
       "      <td>0.760950</td>\n",
       "      <td>0.685286</td>\n",
       "      <td>0.783055</td>\n",
       "      <td>0.375064</td>\n",
       "      <td>1.000000</td>\n",
       "      <td>0.516588</td>\n",
       "    </tr>\n",
       "    <tr>\n",
       "      <td>Per_Sqft</td>\n",
       "      <td>0.273103</td>\n",
       "      <td>0.256667</td>\n",
       "      <td>0.323248</td>\n",
       "      <td>0.251432</td>\n",
       "      <td>0.516588</td>\n",
       "      <td>1.000000</td>\n",
       "    </tr>\n",
       "  </tbody>\n",
       "</table>\n",
       "</div>"
      ],
      "text/plain": [
       "              Area       BHK  Bathroom   Parking     Price  Per_Sqft\n",
       "Area      1.000000  0.642625  0.699758  0.321350  0.760950  0.273103\n",
       "BHK       0.642625  1.000000  0.774184  0.266754  0.685286  0.256667\n",
       "Bathroom  0.699758  0.774184  1.000000  0.379380  0.783055  0.323248\n",
       "Parking   0.321350  0.266754  0.379380  1.000000  0.375064  0.251432\n",
       "Price     0.760950  0.685286  0.783055  0.375064  1.000000  0.516588\n",
       "Per_Sqft  0.273103  0.256667  0.323248  0.251432  0.516588  1.000000"
      ]
     },
     "execution_count": 210,
     "metadata": {},
     "output_type": "execute_result"
    }
   ],
   "source": [
    "House_data.corr()"
   ]
  },
  {
   "cell_type": "code",
   "execution_count": 198,
   "metadata": {},
   "outputs": [],
   "source": [
    "House_data['Area']=np.log(House_data['Area'])"
   ]
  },
  {
   "cell_type": "code",
   "execution_count": 185,
   "metadata": {},
   "outputs": [],
   "source": [
    "House_data['Parking'] = House_data['Parking'].replace(9, 2)"
   ]
  },
  {
   "cell_type": "code",
   "execution_count": 205,
   "metadata": {},
   "outputs": [],
   "source": [
    "House_data['Per_Sqft']=np.log(House_data['Per_Sqft'])"
   ]
  },
  {
   "cell_type": "code",
   "execution_count": 201,
   "metadata": {},
   "outputs": [],
   "source": [
    "House_data['Price']=np.log(House_data['Price'])"
   ]
  },
  {
   "cell_type": "code",
   "execution_count": 274,
   "metadata": {},
   "outputs": [],
   "source": [
    "X=House_data.drop(\"Locality\", axis=1)"
   ]
  },
  {
   "cell_type": "code",
   "execution_count": null,
   "metadata": {},
   "outputs": [],
   "source": [
    "X=House_data.drop(\"Price\",axis=1)"
   ]
  },
  {
   "cell_type": "code",
   "execution_count": 272,
   "metadata": {},
   "outputs": [],
   "source": [
    "X=House_data.drop(\"Per_Sqft\", axis=1)"
   ]
  },
  {
   "cell_type": "code",
   "execution_count": 280,
   "metadata": {},
   "outputs": [],
   "source": [
    "X=House_data.drop([\"Locality\",\"Price\", \"Per_Sqft\"], axis=1)"
   ]
  },
  {
   "cell_type": "code",
   "execution_count": 268,
   "metadata": {},
   "outputs": [],
   "source": [
    "y=House_data.Price"
   ]
  },
  {
   "cell_type": "code",
   "execution_count": 284,
   "metadata": {},
   "outputs": [
    {
     "data": {
      "text/plain": [
       "0       15.687313\n",
       "1       15.424948\n",
       "2       16.556351\n",
       "3       15.250595\n",
       "4       15.640060\n",
       "          ...    \n",
       "1254    17.822844\n",
       "1255    16.341239\n",
       "1256    16.677711\n",
       "1257    16.257858\n",
       "1258    16.733281\n",
       "Name: Price, Length: 1259, dtype: float64"
      ]
     },
     "execution_count": 284,
     "metadata": {},
     "output_type": "execute_result"
    }
   ],
   "source": [
    "y"
   ]
  },
  {
   "cell_type": "code",
   "execution_count": 282,
   "metadata": {},
   "outputs": [],
   "source": [
    "X=pd.get_dummies(X)"
   ]
  },
  {
   "cell_type": "code",
   "execution_count": 283,
   "metadata": {},
   "outputs": [
    {
     "data": {
      "text/html": [
       "<div>\n",
       "<style scoped>\n",
       "    .dataframe tbody tr th:only-of-type {\n",
       "        vertical-align: middle;\n",
       "    }\n",
       "\n",
       "    .dataframe tbody tr th {\n",
       "        vertical-align: top;\n",
       "    }\n",
       "\n",
       "    .dataframe thead th {\n",
       "        text-align: right;\n",
       "    }\n",
       "</style>\n",
       "<table border=\"1\" class=\"dataframe\">\n",
       "  <thead>\n",
       "    <tr style=\"text-align: right;\">\n",
       "      <th></th>\n",
       "      <th>Area</th>\n",
       "      <th>BHK</th>\n",
       "      <th>Bathroom</th>\n",
       "      <th>Parking</th>\n",
       "      <th>Furnishing_Furnished</th>\n",
       "      <th>Furnishing_Semi-Furnished</th>\n",
       "      <th>Furnishing_Unfurnished</th>\n",
       "      <th>Status_Almost_ready</th>\n",
       "      <th>Status_Ready_to_move</th>\n",
       "      <th>Transaction_New_Property</th>\n",
       "      <th>Transaction_Resale</th>\n",
       "      <th>Type_Apartment</th>\n",
       "      <th>Type_Builder_Floor</th>\n",
       "    </tr>\n",
       "  </thead>\n",
       "  <tbody>\n",
       "    <tr>\n",
       "      <td>0</td>\n",
       "      <td>6.684612</td>\n",
       "      <td>3</td>\n",
       "      <td>2.0</td>\n",
       "      <td>1.0</td>\n",
       "      <td>0</td>\n",
       "      <td>1</td>\n",
       "      <td>0</td>\n",
       "      <td>0</td>\n",
       "      <td>1</td>\n",
       "      <td>1</td>\n",
       "      <td>0</td>\n",
       "      <td>0</td>\n",
       "      <td>1</td>\n",
       "    </tr>\n",
       "    <tr>\n",
       "      <td>1</td>\n",
       "      <td>6.620073</td>\n",
       "      <td>2</td>\n",
       "      <td>2.0</td>\n",
       "      <td>1.0</td>\n",
       "      <td>0</td>\n",
       "      <td>1</td>\n",
       "      <td>0</td>\n",
       "      <td>0</td>\n",
       "      <td>1</td>\n",
       "      <td>1</td>\n",
       "      <td>0</td>\n",
       "      <td>1</td>\n",
       "      <td>0</td>\n",
       "    </tr>\n",
       "    <tr>\n",
       "      <td>2</td>\n",
       "      <td>6.856462</td>\n",
       "      <td>2</td>\n",
       "      <td>2.0</td>\n",
       "      <td>1.0</td>\n",
       "      <td>1</td>\n",
       "      <td>0</td>\n",
       "      <td>0</td>\n",
       "      <td>0</td>\n",
       "      <td>1</td>\n",
       "      <td>0</td>\n",
       "      <td>1</td>\n",
       "      <td>1</td>\n",
       "      <td>0</td>\n",
       "    </tr>\n",
       "    <tr>\n",
       "      <td>3</td>\n",
       "      <td>6.396930</td>\n",
       "      <td>2</td>\n",
       "      <td>2.0</td>\n",
       "      <td>1.0</td>\n",
       "      <td>0</td>\n",
       "      <td>1</td>\n",
       "      <td>0</td>\n",
       "      <td>0</td>\n",
       "      <td>1</td>\n",
       "      <td>0</td>\n",
       "      <td>1</td>\n",
       "      <td>0</td>\n",
       "      <td>1</td>\n",
       "    </tr>\n",
       "    <tr>\n",
       "      <td>4</td>\n",
       "      <td>6.476972</td>\n",
       "      <td>2</td>\n",
       "      <td>2.0</td>\n",
       "      <td>1.0</td>\n",
       "      <td>0</td>\n",
       "      <td>1</td>\n",
       "      <td>0</td>\n",
       "      <td>0</td>\n",
       "      <td>1</td>\n",
       "      <td>1</td>\n",
       "      <td>0</td>\n",
       "      <td>0</td>\n",
       "      <td>1</td>\n",
       "    </tr>\n",
       "  </tbody>\n",
       "</table>\n",
       "</div>"
      ],
      "text/plain": [
       "       Area  BHK  Bathroom  Parking  Furnishing_Furnished  \\\n",
       "0  6.684612    3       2.0      1.0                     0   \n",
       "1  6.620073    2       2.0      1.0                     0   \n",
       "2  6.856462    2       2.0      1.0                     1   \n",
       "3  6.396930    2       2.0      1.0                     0   \n",
       "4  6.476972    2       2.0      1.0                     0   \n",
       "\n",
       "   Furnishing_Semi-Furnished  Furnishing_Unfurnished  Status_Almost_ready  \\\n",
       "0                          1                       0                    0   \n",
       "1                          1                       0                    0   \n",
       "2                          0                       0                    0   \n",
       "3                          1                       0                    0   \n",
       "4                          1                       0                    0   \n",
       "\n",
       "   Status_Ready_to_move  Transaction_New_Property  Transaction_Resale  \\\n",
       "0                     1                         1                   0   \n",
       "1                     1                         1                   0   \n",
       "2                     1                         0                   1   \n",
       "3                     1                         0                   1   \n",
       "4                     1                         1                   0   \n",
       "\n",
       "   Type_Apartment  Type_Builder_Floor  \n",
       "0               0                   1  \n",
       "1               1                   0  \n",
       "2               1                   0  \n",
       "3               0                   1  \n",
       "4               0                   1  "
      ]
     },
     "execution_count": 283,
     "metadata": {},
     "output_type": "execute_result"
    }
   ],
   "source": [
    "X.head()"
   ]
  },
  {
   "cell_type": "code",
   "execution_count": 285,
   "metadata": {},
   "outputs": [],
   "source": [
    "from sklearn.model_selection import train_test_split\n",
    "x_train, x_cv, y_train, y_cv = train_test_split(X,y, test_size =0.3)"
   ]
  },
  {
   "cell_type": "code",
   "execution_count": 286,
   "metadata": {},
   "outputs": [],
   "source": [
    "from sklearn.linear_model import LinearRegression "
   ]
  },
  {
   "cell_type": "code",
   "execution_count": 287,
   "metadata": {},
   "outputs": [],
   "source": [
    "model=LinearRegression()"
   ]
  },
  {
   "cell_type": "code",
   "execution_count": 288,
   "metadata": {},
   "outputs": [
    {
     "data": {
      "text/plain": [
       "LinearRegression(copy_X=True, fit_intercept=True, n_jobs=None, normalize=False)"
      ]
     },
     "execution_count": 288,
     "metadata": {},
     "output_type": "execute_result"
    }
   ],
   "source": [
    "model.fit(x_train, y_train)"
   ]
  },
  {
   "cell_type": "code",
   "execution_count": 289,
   "metadata": {},
   "outputs": [],
   "source": [
    "prediction=model.predict(x_cv)"
   ]
  },
  {
   "cell_type": "code",
   "execution_count": 290,
   "metadata": {},
   "outputs": [
    {
     "data": {
      "text/plain": [
       "array([15.90970711, 15.63065092, 16.79001648, 15.93358691, 15.87407406,\n",
       "       16.33668695, 16.60686125, 17.84187088, 16.68827969, 16.78632092,\n",
       "       16.42219091, 19.61215422, 15.70418271, 16.96859009, 17.50563923,\n",
       "       16.05671388, 14.76995645, 16.87988259, 17.84862472, 16.07468445,\n",
       "       16.0677312 , 16.0689623 , 16.17033439, 15.30335261, 18.01186884,\n",
       "       16.94635857, 17.44414218, 15.96592099, 16.70955753, 15.83224688,\n",
       "       15.62468682, 15.75568878, 17.43710678, 16.12360642, 17.31786978,\n",
       "       16.32489765, 15.89265083, 15.06352862, 15.95680305, 18.47994284,\n",
       "       16.40067398, 17.44459904, 15.98617445, 16.57512867, 16.62388837,\n",
       "       16.65901451, 16.2299071 , 14.66731969, 15.10474452, 16.70923753,\n",
       "       16.56582938, 16.03059855, 16.38256361, 15.822162  , 16.51571712,\n",
       "       16.71984771, 16.76476437, 16.11637643, 15.79084061, 14.81005074,\n",
       "       17.5682646 , 16.42699038, 16.94403481, 16.61362735, 14.73712562,\n",
       "       15.88793432, 16.84279213, 16.1110575 , 16.73561789, 15.89941693,\n",
       "       15.62943394, 16.71207455, 16.21933703, 18.72333258, 16.55324445,\n",
       "       15.9534207 , 16.03327038, 16.32011102, 15.41318557, 15.08893114,\n",
       "       14.93629948, 15.76156882, 16.88932053, 16.57491648, 15.94704505,\n",
       "       16.57170942, 16.733958  , 17.47061842, 15.96447573, 16.02726539,\n",
       "       19.43940409, 15.47746029, 16.73284178, 16.49376749, 16.10475893,\n",
       "       16.671175  , 16.71704548, 16.63920635, 16.57403041, 15.80484454,\n",
       "       15.89265083, 15.60131962, 15.29213043, 15.71070855, 17.82687949,\n",
       "       16.08097258, 16.01900528, 14.96743163, 16.21933703, 15.73999427,\n",
       "       17.41433001, 15.49654151, 16.75780487, 16.18159693, 17.12134268,\n",
       "       18.54932017, 14.86744108, 16.66831486, 16.40558131, 15.73246114,\n",
       "       14.94554819, 16.91420061, 14.95393439, 15.92520071, 15.10207268,\n",
       "       14.96134594, 18.35040539, 17.80996397, 15.62468682, 18.08308012,\n",
       "       16.33668695, 15.79922682, 16.11349321, 16.27913565, 16.01900528,\n",
       "       15.78543711, 16.92096197, 16.62963076, 16.52034364, 16.83161554,\n",
       "       17.31222373, 16.1068606 , 16.63818263, 16.8366559 , 16.27579093,\n",
       "       16.44086729, 16.94886197, 15.96709323, 16.53452688, 15.28434184,\n",
       "       16.41275297, 16.06974199, 17.22273294, 15.58538666, 17.09379552,\n",
       "       16.92249176, 16.16820749, 19.26892675, 16.89412105, 15.99366749,\n",
       "       18.12667506, 15.88546204, 16.29309054, 16.94440872, 14.78797196,\n",
       "       16.76443748, 17.548651  , 16.08465151, 15.89842405, 15.78714782,\n",
       "       16.07468445, 15.13302465, 19.75043837, 14.68599607, 18.2859051 ,\n",
       "       17.03469724, 16.49086008, 16.35975131, 16.79589652, 16.66745443,\n",
       "       18.16102205, 15.85499283, 15.07881744, 15.94284815, 16.07404428,\n",
       "       15.58568272, 16.75048258, 15.99649234, 16.84423349, 16.84473076,\n",
       "       16.10459565, 18.51548176, 15.5380546 , 16.6781275 , 16.73330533,\n",
       "       16.32489765, 16.07802138, 17.82687949, 15.84555489, 16.78734464,\n",
       "       16.10610486, 16.5143233 , 15.66361262, 16.78801961, 15.73246114,\n",
       "       16.99113074, 15.822162  , 15.84648296, 18.79741487, 16.79924123,\n",
       "       15.46350539, 14.5585777 , 15.86828478, 15.57522652, 16.69505241,\n",
       "       16.00443117, 15.93426239, 15.54072644, 14.78669783, 17.4682958 ,\n",
       "       15.48710357, 16.23487673, 15.9726772 , 16.03607261, 15.82386068,\n",
       "       16.11752682, 17.62655437, 14.91635643, 14.83054963, 17.16203542,\n",
       "       18.85636559, 16.85632402, 17.03444099, 17.05245793, 15.84702419,\n",
       "       16.06858338, 16.54359509, 16.73263036, 15.79990722, 16.31217176,\n",
       "       17.77912106, 15.96709323, 15.9256709 , 16.68154281, 17.98677672,\n",
       "       17.37423516, 16.73418181, 16.14006747, 16.66246159, 15.27052178,\n",
       "       15.72873799, 16.99171175, 16.7221687 , 16.36932612, 15.7402206 ,\n",
       "       15.75568878, 14.36784985, 14.84856514, 14.53914875, 15.06323256,\n",
       "       17.09032284, 15.71697905, 14.85533124, 16.01900528, 18.2859051 ,\n",
       "       17.60350179, 16.36994826, 14.50369775, 16.25396257, 17.47891232,\n",
       "       16.52041439, 16.06610122, 16.95978288, 15.49203269, 15.39935317,\n",
       "       16.85818838, 16.28974582, 16.13525237, 16.32233664, 15.68260816,\n",
       "       16.72834395, 16.05008376, 15.67774686, 16.67435818, 13.95333107,\n",
       "       18.00244806, 16.8819963 , 15.72285795, 15.83176519, 16.03607261,\n",
       "       16.41734025, 16.01486887, 15.71811083, 16.58333799, 18.04984095,\n",
       "       16.56008275, 15.94874373, 15.76712724, 14.73079178, 16.05511373,\n",
       "       16.78985319, 18.6963534 , 16.12081549, 14.82384418, 16.00674372,\n",
       "       16.4220361 , 17.45322898, 16.66513343, 16.73760693, 16.6264237 ,\n",
       "       16.01418916, 16.03459016, 15.5380546 , 15.95680305, 16.01900528,\n",
       "       15.9726772 , 16.88375184, 15.91173205, 14.73058584, 15.83224688,\n",
       "       17.45549723, 16.84279213, 15.92076515, 16.60686125, 16.2752407 ,\n",
       "       16.41462887, 15.09399782, 15.44462945, 18.21060912, 16.03059855,\n",
       "       16.69659247, 14.50155281, 16.1798316 , 14.49172795, 17.39864391,\n",
       "       15.34747034, 15.80990579, 15.66927076, 15.92862332, 15.10474452,\n",
       "       16.03809159, 15.81598704, 16.09031251, 18.07101729, 16.2836269 ,\n",
       "       17.53393398, 17.71698783, 18.11264465, 16.74986922, 15.80923083,\n",
       "       15.4274525 , 16.05008376, 17.00737952, 17.01772499, 16.66246159,\n",
       "       15.90735465, 16.0917998 , 17.32780861, 16.29348092, 16.79739481,\n",
       "       18.42883   , 16.50248419, 15.90970711, 15.23536995, 15.70418271,\n",
       "       17.92030351, 15.11383162, 15.88645187, 16.6520027 , 17.33879721,\n",
       "       15.92397221, 16.53046436, 16.03356644, 15.93358691, 17.54277096,\n",
       "       15.31964906, 16.01038574, 15.48334032])"
      ]
     },
     "execution_count": 290,
     "metadata": {},
     "output_type": "execute_result"
    }
   ],
   "source": [
    "prediction"
   ]
  },
  {
   "cell_type": "code",
   "execution_count": 242,
   "metadata": {},
   "outputs": [
    {
     "name": "stdout",
     "output_type": "stream",
     "text": [
      "0.051940930851881006\n",
      "[-1.80201955e-16  1.11022302e-15 -1.88737914e-15  9.15933995e-16\n",
      "  1.00000000e+00 -3.75619630e-02 -3.75619630e-02 -3.75619630e-02\n",
      "  2.10575514e-04  2.10575514e-04  2.10575514e-04  2.10575514e-04\n",
      "  2.10575514e-04  2.10575514e-04  2.10575514e-04  2.10575514e-04\n",
      "  2.10575514e-04  2.10575514e-04  2.10575514e-04  1.14080594e-03\n",
      "  2.10575514e-04  2.10575514e-04  2.10575514e-04 -2.83085118e-03\n",
      "  2.10575514e-04  7.92089834e-03  2.10575514e-04  2.10575514e-04\n",
      "  2.10575514e-04  5.95915038e-03  2.10575514e-04 -1.09621176e-02\n",
      "  2.10575514e-04  2.10575514e-04  4.77767691e-03  2.10575514e-04\n",
      "  2.10575514e-04  2.10575514e-04  2.10575514e-04  2.10575514e-04\n",
      "  2.10575514e-04  2.10575514e-04  2.10575514e-04  2.10575514e-04\n",
      "  2.10575514e-04  2.10575514e-04  2.10575514e-04  5.28352817e-04\n",
      "  2.10575514e-04  2.10575514e-04  2.10575514e-04  2.10575514e-04\n",
      "  2.10575514e-04  2.10575514e-04 -4.83973465e-03  2.90538223e-03\n",
      "  2.10575514e-04  2.10575514e-04  2.10575514e-04  2.10575514e-04\n",
      "  2.10575514e-04  2.10575514e-04  2.10575514e-04 -2.54020967e-03\n",
      "  2.10575514e-04  2.10575514e-04  2.10575514e-04 -7.14425642e-03\n",
      "  2.10575514e-04  2.10575514e-04 -3.50071339e-03  2.10575514e-04\n",
      "  2.10575514e-04  2.10575514e-04  2.10575514e-04 -1.99613290e-03\n",
      "  2.10575514e-04  2.10575514e-04  2.10575514e-04  2.10575514e-04\n",
      "  4.44232126e-03  2.10575514e-04  2.10575514e-04  2.10575514e-04\n",
      "  2.10575514e-04  2.10575514e-04  2.10575514e-04  2.10575514e-04\n",
      "  2.10575514e-04  1.92965029e-03 -3.74498686e-04 -3.32906799e-03\n",
      "  2.10575514e-04  2.10575514e-04  2.10575514e-04  2.10575514e-04\n",
      "  3.51326208e-03  2.10575514e-04  2.10575514e-04  2.10575514e-04\n",
      "  2.10575514e-04  2.10575514e-04  2.10575514e-04 -2.46155969e-04\n",
      "  2.10575514e-04  2.10575514e-04  2.10575514e-04  2.10575514e-04\n",
      "  2.10575514e-04  2.10575514e-04  2.10575514e-04  2.10575514e-04\n",
      "  2.10575514e-04  8.24265499e-04  2.10575514e-04  1.59778985e-04\n",
      "  2.10575514e-04  2.10575514e-04  2.10575514e-04  1.49067901e-02\n",
      "  2.10575514e-04  2.10575514e-04  2.10575514e-04  2.10575514e-04\n",
      "  2.10575514e-04  2.10575514e-04  1.59217461e-15  2.10575514e-04\n",
      "  2.10575514e-04  1.01643954e-20  2.10575514e-04  2.10575514e-04\n",
      "  2.10575514e-04  2.10575514e-04  2.10575514e-04  2.10575514e-04\n",
      " -2.24673617e-20 -1.83835244e-19  2.10575514e-04  2.10575514e-04\n",
      "  2.10575514e-04  2.10575514e-04  2.10575514e-04  2.10575514e-04\n",
      "  2.10575514e-04  2.10575514e-04  2.10575514e-04  2.10575514e-04\n",
      "  2.84800485e-20 -3.23922775e-24  2.10575514e-04  2.10575514e-04\n",
      " -3.54371110e-31  2.10575514e-04  2.10575514e-04  2.10575514e-04\n",
      "  2.10575514e-04  2.10575514e-04  2.10575514e-04 -4.93038066e-32\n",
      "  2.10575514e-04  2.10575514e-04  2.10575514e-04  2.10575514e-04\n",
      "  2.10575514e-04  2.10575514e-04  2.10575514e-04  4.43734259e-31\n",
      "  2.10575514e-04  2.10575514e-04  2.10575514e-04  2.10575514e-04\n",
      "  2.10575514e-04  2.10575514e-04  2.10575514e-04  2.10575514e-04\n",
      "  2.10575514e-04  2.10575514e-04  2.10575514e-04  2.10575514e-04\n",
      "  2.10575514e-04  2.10575514e-04  2.10575514e-04  2.10575514e-04\n",
      "  2.10575514e-04  2.10575514e-04  2.10575514e-04  2.10575514e-04\n",
      "  2.10575514e-04  2.10575514e-04  2.10575514e-04  2.10575514e-04\n",
      "  2.10575514e-04  2.10575514e-04  1.35585468e-31  2.10575514e-04\n",
      "  2.10575514e-04  2.10575514e-04  2.10575514e-04  2.10575514e-04\n",
      "  2.10575514e-04 -1.23259516e-32  4.16000868e-32  2.10575514e-04\n",
      "  2.10575514e-04  3.69778549e-32  2.10575514e-04  2.10575514e-04\n",
      "  1.10933565e-31  6.16297582e-32  2.10575514e-04  2.10575514e-04\n",
      "  2.10575514e-04  2.10575514e-04 -7.39557099e-32  2.10575514e-04\n",
      "  2.10575514e-04  2.10575514e-04  2.10575514e-04  2.10575514e-04\n",
      "  2.10575514e-04  2.56601718e-32  2.10575514e-04  2.10575514e-04\n",
      "  2.10575514e-04  2.10575514e-04 -1.01689101e-31  2.10575514e-04\n",
      " -1.23259516e-32  2.10575514e-04 -1.17257560e-32  2.10575514e-04\n",
      "  2.10575514e-04  2.10575514e-04  2.10575514e-04  2.10575514e-04\n",
      "  2.10575514e-04  7.94446102e-32  2.10575514e-04  2.10575514e-04\n",
      "  2.10575514e-04  2.10575514e-04  7.31853379e-33  1.17096541e-31\n",
      "  2.10575514e-04  2.10575514e-04  4.93038066e-32  2.10575514e-04\n",
      "  2.10575514e-04 -9.01335214e-32  2.10575514e-04  2.10575514e-04\n",
      " -3.15852511e-32  2.10575514e-04 -1.23259516e-32  2.10575514e-04\n",
      "  2.10575514e-04  2.10575514e-04  2.10575514e-04  2.10575514e-04\n",
      "  2.10575514e-04  2.10575514e-04  2.10575514e-04  2.10575514e-04\n",
      "  2.10575514e-04  2.10575514e-04 -6.77927340e-32  2.10575514e-04\n",
      "  2.10575514e-04 -4.00593428e-32  2.10575514e-04  2.10575514e-04\n",
      "  2.10575514e-04 -7.84816452e-33  2.10575514e-04  2.10575514e-04\n",
      "  2.10575514e-04  2.10575514e-04  2.10575514e-04  2.10575514e-04\n",
      " -1.23259516e-31  6.77927340e-32  2.10575514e-04  2.10575514e-04\n",
      "  2.10575514e-04  2.10575514e-04  2.10575514e-04  2.10575514e-04\n",
      "  2.10575514e-04  2.10575514e-04  2.10575514e-04  2.10575514e-04\n",
      "  2.10575514e-04  7.39557099e-32 -4.93038066e-32 -8.54671997e-32\n",
      "  2.10575514e-04  2.10575514e-04  2.10575514e-04  2.10575514e-04\n",
      "  2.10575514e-04  2.10575514e-04 -5.54667824e-32  2.10575514e-04\n",
      "  2.10575514e-04  2.10575514e-04  2.10575514e-04  2.10575514e-04\n",
      "  2.10575514e-04  2.10575514e-04 -3.38963670e-32  2.10575514e-04\n",
      "  2.10575514e-04  2.10575514e-04  2.10575514e-04  2.10575514e-04\n",
      "  1.23259516e-32  2.10575514e-04  2.10575514e-04  2.10575514e-04\n",
      "  2.10575514e-04  2.10575514e-04  2.10575514e-04  2.10575514e-04\n",
      "  2.10575514e-04  2.10575514e-04  2.10575514e-04  2.10575514e-04\n",
      "  2.10575514e-04  2.10575514e-04  2.10575514e-04  2.10575514e-04\n",
      "  2.10575514e-04  1.84889275e-32  2.10575514e-04  2.70909130e-33\n",
      "  2.10575514e-04  2.10575514e-04  2.10575514e-04  2.10575514e-04\n",
      "  2.10575514e-04  2.10575514e-04  2.10575514e-04  2.10575514e-04\n",
      "  2.10575514e-04  4.28880524e-32  2.10575514e-04  2.10575514e-04\n",
      "  2.10575514e-04  2.10575514e-04  2.10575514e-04  2.10575514e-04\n",
      "  2.10575514e-04  2.10575514e-04  2.10575514e-04 -1.23259516e-32\n",
      "  2.10575514e-04 -1.74584421e-32  2.10575514e-04  2.10575514e-04\n",
      "  2.10575514e-04  2.10575514e-04  2.10575514e-04  2.10575514e-04\n",
      "  2.10575514e-04  2.10575514e-04  2.10575514e-04  2.10575514e-04\n",
      "  2.10575514e-04  2.10575514e-04  2.10575514e-04  2.10575514e-04\n",
      "  2.10575514e-04 -3.66388164e-02 -3.66388164e-02 -3.02089046e-02\n",
      " -3.02089046e-02  5.22581776e-02  5.22581776e-02]\n"
     ]
    }
   ],
   "source": [
    "print(model.intercept_)\n",
    "print(model.coef_)"
   ]
  },
  {
   "cell_type": "code",
   "execution_count": 291,
   "metadata": {},
   "outputs": [],
   "source": [
    "from sklearn import metrics"
   ]
  },
  {
   "cell_type": "code",
   "execution_count": 292,
   "metadata": {},
   "outputs": [
    {
     "data": {
      "text/plain": [
       "0.454382776799883"
      ]
     },
     "execution_count": 292,
     "metadata": {},
     "output_type": "execute_result"
    }
   ],
   "source": [
    "metrics.mean_absolute_error(y_cv, prediction)"
   ]
  },
  {
   "cell_type": "code",
   "execution_count": 293,
   "metadata": {},
   "outputs": [
    {
     "data": {
      "text/plain": [
       "0.5582606693625993"
      ]
     },
     "execution_count": 293,
     "metadata": {},
     "output_type": "execute_result"
    }
   ],
   "source": [
    "np.sqrt(metrics.mean_squared_error(y_cv, prediction))"
   ]
  },
  {
   "cell_type": "raw",
   "metadata": {},
   "source": [
    "metrics.r2_score(y_cv, prediction)"
   ]
  },
  {
   "cell_type": "code",
   "execution_count": 294,
   "metadata": {},
   "outputs": [
    {
     "data": {
      "text/plain": [
       "0.7259127664551887"
      ]
     },
     "execution_count": 294,
     "metadata": {},
     "output_type": "execute_result"
    }
   ],
   "source": [
    "metrics.r2_score(y_cv, prediction)"
   ]
  },
  {
   "cell_type": "code",
   "execution_count": 295,
   "metadata": {},
   "outputs": [
    {
     "data": {
      "text/plain": [
       "<matplotlib.collections.PathCollection at 0x1a305d7f50>"
      ]
     },
     "execution_count": 295,
     "metadata": {},
     "output_type": "execute_result"
    },
    {
     "data": {
      "image/png": "[encoded data removed]",
      "text/plain": [
       "<Figure size 432x288 with 1 Axes>"
      ]
     },
     "metadata": {
      "needs_background": "light"
     },
     "output_type": "display_data"
    }
   ],
   "source": [
    "plt.scatter(y_cv, prediction)"
   ]
  },
  {
   "cell_type": "code",
   "execution_count": 296,
   "metadata": {},
   "outputs": [
    {
     "data": {
      "text/plain": [
       "<matplotlib.axes._subplots.AxesSubplot at 0x1a2d6ebd10>"
      ]
     },
     "execution_count": 296,
     "metadata": {},
     "output_type": "execute_result"
    },
    {
     "data": {
      "image/png": "[encoded data removed]",
      "text/plain": [
       "<Figure size 432x288 with 1 Axes>"
      ]
     },
     "metadata": {
      "needs_background": "light"
     },
     "output_type": "display_data"
    }
   ],
   "source": [
    "sns.scatterplot(y_cv, prediction)"
   ]
  },
  {
   "cell_type": "code",
   "execution_count": 297,
   "metadata": {},
   "outputs": [
    {
     "name": "stdout",
     "output_type": "stream",
     "text": [
      "                            OLS Regression Results                            \n",
      "==============================================================================\n",
      "Dep. Variable:                  Price   R-squared:                       0.713\n",
      "Model:                            OLS   Adj. R-squared:                  0.711\n",
      "Method:                 Least Squares   F-statistic:                     309.9\n",
      "Date:                Sun, 03 May 2020   Prob (F-statistic):               0.00\n",
      "Time:                        15:42:08   Log-Likelihood:                -1064.0\n",
      "No. Observations:                1259   AIC:                             2150.\n",
      "Df Residuals:                    1248   BIC:                             2207.\n",
      "Df Model:                          10                                         \n",
      "Covariance Type:            nonrobust                                         \n",
      "=============================================================================================\n",
      "                                coef    std err          t      P>|t|      [0.025      0.975]\n",
      "---------------------------------------------------------------------------------------------\n",
      "const                         5.5376      0.158     34.983      0.000       5.227       5.848\n",
      "Area                          0.5500      0.032     17.224      0.000       0.487       0.613\n",
      "BHK                           0.1123      0.028      4.076      0.000       0.058       0.166\n",
      "Bathroom                      0.4184      0.028     15.011      0.000       0.364       0.473\n",
      "Parking                       0.1083      0.025      4.284      0.000       0.059       0.158\n",
      "Furnishing_Furnished         -0.0157      0.107     -0.146      0.884      -0.226       0.194\n",
      "Furnishing_Semi-Furnished    -0.0124      0.104     -0.120      0.905      -0.216       0.191\n",
      "Furnishing_Unfurnished       -0.0499      0.105     -0.475      0.635      -0.256       0.156\n",
      "Status_Almost_ready           2.8512      0.092     31.094      0.000       2.671       3.031\n",
      "Status_Ready_to_move          2.6864      0.082     32.927      0.000       2.526       2.846\n",
      "Transaction_New_Property      2.7399      0.081     33.832      0.000       2.581       2.899\n",
      "Transaction_Resale            2.7977      0.081     34.383      0.000       2.638       2.957\n",
      "Type_Apartment               -0.0029      0.154     -0.019      0.985      -0.304       0.298\n",
      "Type_Builder_Floor           -0.0751      0.154     -0.488      0.625      -0.377       0.227\n",
      "==============================================================================\n",
      "Omnibus:                       23.425   Durbin-Watson:                   1.258\n",
      "Prob(Omnibus):                  0.000   Jarque-Bera (JB):               32.672\n",
      "Skew:                          -0.203   Prob(JB):                     8.04e-08\n",
      "Kurtosis:                       3.677   Cond. No.                     1.55e+17\n",
      "==============================================================================\n",
      "\n",
      "Warnings:\n",
      "[1] Standard Errors assume that the covariance matrix of the errors is correctly specified.\n",
      "[2] The smallest eigenvalue is 3.71e-30. This might indicate that there are\n",
      "strong multicollinearity problems or that the design matrix is singular.\n"
     ]
    },
    {
     "name": "stderr",
     "output_type": "stream",
     "text": [
      "/Users/divakarsharma/opt/anaconda3/lib/python3.7/site-packages/numpy/core/fromnumeric.py:2495: FutureWarning: Method .ptp is deprecated and will be removed in a future version. Use numpy.ptp instead.\n",
      "  return ptp(axis=axis, out=out, **kwargs)\n"
     ]
    }
   ],
   "source": [
    "import statsmodels.api as sm\n",
    "from scipy import stats\n",
    "\n",
    "\n",
    "X2 = sm.add_constant(X)\n",
    "est = sm.OLS(y, X2)\n",
    "est2 = est.fit()\n",
    "print(est2.summary())"
   ]
  },
  {
   "cell_type": "code",
   "execution_count": null,
   "metadata": {},
   "outputs": [],
   "source": []
  },
  {
   "cell_type": "code",
   "execution_count": null,
   "metadata": {},
   "outputs": [],
   "source": []
  }
 ],
 "metadata": {
  "kernelspec": {
   "display_name": "Python 3",
   "language": "python",
   "name": "python3"
  },
  "language_info": {
   "codemirror_mode": {
    "name": "ipython",
    "version": 3
   },
   "file_extension": ".py",
   "mimetype": "text/x-python",
   "name": "python",
   "nbconvert_exporter": "python",
   "pygments_lexer": "ipython3",
   "version": "3.7.4"
  }
 },
 "nbformat": 4,
 "nbformat_minor": 2
}
